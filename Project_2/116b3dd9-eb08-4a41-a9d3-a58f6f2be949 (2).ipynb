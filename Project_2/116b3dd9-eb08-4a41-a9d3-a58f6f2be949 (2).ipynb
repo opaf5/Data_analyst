{
 "cells": [
  {
   "cell_type": "markdown",
   "id": "f6756fc8",
   "metadata": {},
   "source": [
    "<div style=\"border:solid Chocolate 2px; padding: 40px\">\n",
    "\n",
    "<b>Евгений, привет!👋</b>\n",
    "\n",
    "Меня зовут Кирилл Васильев, я буду ревьюером твоего проекта. Я предлагаю общаться на «ты», но если привычнее на «вы», просто скажи об этом! \n",
    "    \n",
    "Я оставил комментарии в твоем проекте. Пожалуйста, не удаляй их до технического принятия проекта.\n",
    "\n",
    "Ты можешь реагировать на комментарии как просто написав их в Markdown-ячейках, так и выделив их цветом. Например, <font color='blue'>синим</font>. Второй способ, на мой взгляд, удобнее.\n",
    "\n",
    "Свои комментарии я буду обозначать <font color='green'>зеленым</font>, <font color='gold'>желтым</font> и <font color='red'>красным </font> цветами, например:\n",
    "\n",
    "<br/>\n",
    "\n",
    "<div class=\"alert alert-success\">\n",
    "<h2> Комментарий ревьюера <a class=\"tocSkip\"> </h2>\n",
    "\n",
    "<b>Все отлично!👍:</b> В случае, если решение на отдельном шаге является полностью правильным.\n",
    "</div>\n",
    "\n",
    "<br/>\n",
    "\n",
    "<div class=\"alert alert-warning\">\n",
    "    <h2> Комментарий ревьюера <a class=\"tocSkip\"> </h2>\n",
    "    \n",
    "<b>Некоторые замечания и рекомендации💡:</b> В случае, когда решение на отдельном шаге станет еще лучше, если внести небольшие коррективы.\n",
    "</div>\n",
    "\n",
    "\n",
    "<br/>\n",
    "<div class=\"alert alert-block alert-danger\">\n",
    "<h2> Комментарий ревьюера <a class=\"tocSkip\"></h2>\n",
    "\n",
    "    \n",
    "<b>На доработку🤔:</b>\n",
    " В случае, когда решение на отдельном шаге требует существенной переработки и внесения правок. Напоминаю, что проект не может быть принят с первого раза, если ревью содержит комментарии, рекомендующие доработать шаги.\n",
    "</div>\n",
    "        \n",
    "Предлагаю тебе задавать вопросы по первым двум шагам и авторскому решению, если они возникнут. По проверке сразу переходим к третьему шагу и собственно аналитике проекта.\n",
    "    \n"
   ]
  },
  {
   "cell_type": "markdown",
   "id": "64212927",
   "metadata": {},
   "source": [
    "<div style=\"border:solid Chocolate 2px; padding: 40px\">\n",
    "<font color='blue'>Привет! Замечания понял, частично выполнил рекомендации. Разобрался со сводными таблицами! Выглядит гараздо лучше, чем мой изначальный вариант. Свои дополнения, как и просил, выделил синим цветом.</font>"
   ]
  },
  {
   "cell_type": "markdown",
   "id": "3b2fd450",
   "metadata": {},
   "source": [
    "<div class=\"alert alert-success\">\n",
    "<h2> Комментарий ревьюера #2 <a class=\"tocSkip\"> </h2>\n",
    "\n",
    "👍 Супер. Отдельное спасибо за оформление!\n",
    "</div>\n"
   ]
  },
  {
   "cell_type": "markdown",
   "id": "f70db42e",
   "metadata": {
    "deletable": false,
    "editable": false,
    "id": "c81daeeb"
   },
   "source": [
    "# Исследование надежности заемщиков\n"
   ]
  },
  {
   "cell_type": "markdown",
   "id": "4a5226ea",
   "metadata": {
    "deletable": false,
    "editable": false,
    "id": "827c20bf"
   },
   "source": [
    "Во второй части проекта вы выполните шаги 3 и 4. Их вручную проверит ревьюер.\n",
    "Чтобы вам не пришлось писать код заново для шагов 1 и 2, мы добавили авторские решения в ячейки с кодом. \n",
    "\n"
   ]
  },
  {
   "cell_type": "markdown",
   "id": "b8e03f3a",
   "metadata": {
    "deletable": false,
    "editable": false,
    "id": "744d7639"
   },
   "source": [
    "## Откройте таблицу и изучите общую информацию о данных"
   ]
  },
  {
   "cell_type": "markdown",
   "id": "29029557",
   "metadata": {
    "deletable": false,
    "editable": false,
    "id": "e7a14c31"
   },
   "source": [
    "**Задание 1. Импортируйте библиотеку pandas. Считайте данные из csv-файла в датафрейм и сохраните в переменную `data`. Путь к файлу:**\n",
    "\n",
    "`/datasets/data.csv`"
   ]
  },
  {
   "cell_type": "code",
   "execution_count": 2,
   "id": "7ba12ea1",
   "metadata": {
    "deletable": false,
    "id": "7bcf75c9"
   },
   "outputs": [],
   "source": [
    "import pandas as pd\n",
    "\n",
    "try:\n",
    "    data = pd.read_csv('/datasets/data.csv')\n",
    "except:\n",
    "    data = pd.read_csv('https://code.s3.yandex.net/datasets/data.csv')"
   ]
  },
  {
   "cell_type": "markdown",
   "id": "8a83d27f",
   "metadata": {
    "deletable": false,
    "editable": false,
    "id": "b8038fe3"
   },
   "source": [
    "**Задание 2. Выведите первые 20 строчек датафрейма `data` на экран.**"
   ]
  },
  {
   "cell_type": "code",
   "execution_count": 3,
   "id": "96136942",
   "metadata": {
    "deletable": false,
    "id": "2a7cab99",
    "outputId": "1a8f3ef2-d323-4ec2-ddf7-89670b5944c4"
   },
   "outputs": [
    {
     "data": {
      "text/html": [
       "<div>\n",
       "<style scoped>\n",
       "    .dataframe tbody tr th:only-of-type {\n",
       "        vertical-align: middle;\n",
       "    }\n",
       "\n",
       "    .dataframe tbody tr th {\n",
       "        vertical-align: top;\n",
       "    }\n",
       "\n",
       "    .dataframe thead th {\n",
       "        text-align: right;\n",
       "    }\n",
       "</style>\n",
       "<table border=\"1\" class=\"dataframe\">\n",
       "  <thead>\n",
       "    <tr style=\"text-align: right;\">\n",
       "      <th></th>\n",
       "      <th>children</th>\n",
       "      <th>days_employed</th>\n",
       "      <th>dob_years</th>\n",
       "      <th>education</th>\n",
       "      <th>education_id</th>\n",
       "      <th>family_status</th>\n",
       "      <th>family_status_id</th>\n",
       "      <th>gender</th>\n",
       "      <th>income_type</th>\n",
       "      <th>debt</th>\n",
       "      <th>total_income</th>\n",
       "      <th>purpose</th>\n",
       "    </tr>\n",
       "  </thead>\n",
       "  <tbody>\n",
       "    <tr>\n",
       "      <th>0</th>\n",
       "      <td>1</td>\n",
       "      <td>-8437.673028</td>\n",
       "      <td>42</td>\n",
       "      <td>высшее</td>\n",
       "      <td>0</td>\n",
       "      <td>женат / замужем</td>\n",
       "      <td>0</td>\n",
       "      <td>F</td>\n",
       "      <td>сотрудник</td>\n",
       "      <td>0</td>\n",
       "      <td>253875.639453</td>\n",
       "      <td>покупка жилья</td>\n",
       "    </tr>\n",
       "    <tr>\n",
       "      <th>1</th>\n",
       "      <td>1</td>\n",
       "      <td>-4024.803754</td>\n",
       "      <td>36</td>\n",
       "      <td>среднее</td>\n",
       "      <td>1</td>\n",
       "      <td>женат / замужем</td>\n",
       "      <td>0</td>\n",
       "      <td>F</td>\n",
       "      <td>сотрудник</td>\n",
       "      <td>0</td>\n",
       "      <td>112080.014102</td>\n",
       "      <td>приобретение автомобиля</td>\n",
       "    </tr>\n",
       "    <tr>\n",
       "      <th>2</th>\n",
       "      <td>0</td>\n",
       "      <td>-5623.422610</td>\n",
       "      <td>33</td>\n",
       "      <td>Среднее</td>\n",
       "      <td>1</td>\n",
       "      <td>женат / замужем</td>\n",
       "      <td>0</td>\n",
       "      <td>M</td>\n",
       "      <td>сотрудник</td>\n",
       "      <td>0</td>\n",
       "      <td>145885.952297</td>\n",
       "      <td>покупка жилья</td>\n",
       "    </tr>\n",
       "    <tr>\n",
       "      <th>3</th>\n",
       "      <td>3</td>\n",
       "      <td>-4124.747207</td>\n",
       "      <td>32</td>\n",
       "      <td>среднее</td>\n",
       "      <td>1</td>\n",
       "      <td>женат / замужем</td>\n",
       "      <td>0</td>\n",
       "      <td>M</td>\n",
       "      <td>сотрудник</td>\n",
       "      <td>0</td>\n",
       "      <td>267628.550329</td>\n",
       "      <td>дополнительное образование</td>\n",
       "    </tr>\n",
       "    <tr>\n",
       "      <th>4</th>\n",
       "      <td>0</td>\n",
       "      <td>340266.072047</td>\n",
       "      <td>53</td>\n",
       "      <td>среднее</td>\n",
       "      <td>1</td>\n",
       "      <td>гражданский брак</td>\n",
       "      <td>1</td>\n",
       "      <td>F</td>\n",
       "      <td>пенсионер</td>\n",
       "      <td>0</td>\n",
       "      <td>158616.077870</td>\n",
       "      <td>сыграть свадьбу</td>\n",
       "    </tr>\n",
       "    <tr>\n",
       "      <th>5</th>\n",
       "      <td>0</td>\n",
       "      <td>-926.185831</td>\n",
       "      <td>27</td>\n",
       "      <td>высшее</td>\n",
       "      <td>0</td>\n",
       "      <td>гражданский брак</td>\n",
       "      <td>1</td>\n",
       "      <td>M</td>\n",
       "      <td>компаньон</td>\n",
       "      <td>0</td>\n",
       "      <td>255763.565419</td>\n",
       "      <td>покупка жилья</td>\n",
       "    </tr>\n",
       "    <tr>\n",
       "      <th>6</th>\n",
       "      <td>0</td>\n",
       "      <td>-2879.202052</td>\n",
       "      <td>43</td>\n",
       "      <td>высшее</td>\n",
       "      <td>0</td>\n",
       "      <td>женат / замужем</td>\n",
       "      <td>0</td>\n",
       "      <td>F</td>\n",
       "      <td>компаньон</td>\n",
       "      <td>0</td>\n",
       "      <td>240525.971920</td>\n",
       "      <td>операции с жильем</td>\n",
       "    </tr>\n",
       "    <tr>\n",
       "      <th>7</th>\n",
       "      <td>0</td>\n",
       "      <td>-152.779569</td>\n",
       "      <td>50</td>\n",
       "      <td>СРЕДНЕЕ</td>\n",
       "      <td>1</td>\n",
       "      <td>женат / замужем</td>\n",
       "      <td>0</td>\n",
       "      <td>M</td>\n",
       "      <td>сотрудник</td>\n",
       "      <td>0</td>\n",
       "      <td>135823.934197</td>\n",
       "      <td>образование</td>\n",
       "    </tr>\n",
       "    <tr>\n",
       "      <th>8</th>\n",
       "      <td>2</td>\n",
       "      <td>-6929.865299</td>\n",
       "      <td>35</td>\n",
       "      <td>ВЫСШЕЕ</td>\n",
       "      <td>0</td>\n",
       "      <td>гражданский брак</td>\n",
       "      <td>1</td>\n",
       "      <td>F</td>\n",
       "      <td>сотрудник</td>\n",
       "      <td>0</td>\n",
       "      <td>95856.832424</td>\n",
       "      <td>на проведение свадьбы</td>\n",
       "    </tr>\n",
       "    <tr>\n",
       "      <th>9</th>\n",
       "      <td>0</td>\n",
       "      <td>-2188.756445</td>\n",
       "      <td>41</td>\n",
       "      <td>среднее</td>\n",
       "      <td>1</td>\n",
       "      <td>женат / замужем</td>\n",
       "      <td>0</td>\n",
       "      <td>M</td>\n",
       "      <td>сотрудник</td>\n",
       "      <td>0</td>\n",
       "      <td>144425.938277</td>\n",
       "      <td>покупка жилья для семьи</td>\n",
       "    </tr>\n",
       "    <tr>\n",
       "      <th>10</th>\n",
       "      <td>2</td>\n",
       "      <td>-4171.483647</td>\n",
       "      <td>36</td>\n",
       "      <td>высшее</td>\n",
       "      <td>0</td>\n",
       "      <td>женат / замужем</td>\n",
       "      <td>0</td>\n",
       "      <td>M</td>\n",
       "      <td>компаньон</td>\n",
       "      <td>0</td>\n",
       "      <td>113943.491460</td>\n",
       "      <td>покупка недвижимости</td>\n",
       "    </tr>\n",
       "    <tr>\n",
       "      <th>11</th>\n",
       "      <td>0</td>\n",
       "      <td>-792.701887</td>\n",
       "      <td>40</td>\n",
       "      <td>среднее</td>\n",
       "      <td>1</td>\n",
       "      <td>женат / замужем</td>\n",
       "      <td>0</td>\n",
       "      <td>F</td>\n",
       "      <td>сотрудник</td>\n",
       "      <td>0</td>\n",
       "      <td>77069.234271</td>\n",
       "      <td>покупка коммерческой недвижимости</td>\n",
       "    </tr>\n",
       "    <tr>\n",
       "      <th>12</th>\n",
       "      <td>0</td>\n",
       "      <td>NaN</td>\n",
       "      <td>65</td>\n",
       "      <td>среднее</td>\n",
       "      <td>1</td>\n",
       "      <td>гражданский брак</td>\n",
       "      <td>1</td>\n",
       "      <td>M</td>\n",
       "      <td>пенсионер</td>\n",
       "      <td>0</td>\n",
       "      <td>NaN</td>\n",
       "      <td>сыграть свадьбу</td>\n",
       "    </tr>\n",
       "    <tr>\n",
       "      <th>13</th>\n",
       "      <td>0</td>\n",
       "      <td>-1846.641941</td>\n",
       "      <td>54</td>\n",
       "      <td>неоконченное высшее</td>\n",
       "      <td>2</td>\n",
       "      <td>женат / замужем</td>\n",
       "      <td>0</td>\n",
       "      <td>F</td>\n",
       "      <td>сотрудник</td>\n",
       "      <td>0</td>\n",
       "      <td>130458.228857</td>\n",
       "      <td>приобретение автомобиля</td>\n",
       "    </tr>\n",
       "    <tr>\n",
       "      <th>14</th>\n",
       "      <td>0</td>\n",
       "      <td>-1844.956182</td>\n",
       "      <td>56</td>\n",
       "      <td>высшее</td>\n",
       "      <td>0</td>\n",
       "      <td>гражданский брак</td>\n",
       "      <td>1</td>\n",
       "      <td>F</td>\n",
       "      <td>компаньон</td>\n",
       "      <td>1</td>\n",
       "      <td>165127.911772</td>\n",
       "      <td>покупка жилой недвижимости</td>\n",
       "    </tr>\n",
       "    <tr>\n",
       "      <th>15</th>\n",
       "      <td>1</td>\n",
       "      <td>-972.364419</td>\n",
       "      <td>26</td>\n",
       "      <td>среднее</td>\n",
       "      <td>1</td>\n",
       "      <td>женат / замужем</td>\n",
       "      <td>0</td>\n",
       "      <td>F</td>\n",
       "      <td>сотрудник</td>\n",
       "      <td>0</td>\n",
       "      <td>116820.904450</td>\n",
       "      <td>строительство собственной недвижимости</td>\n",
       "    </tr>\n",
       "    <tr>\n",
       "      <th>16</th>\n",
       "      <td>0</td>\n",
       "      <td>-1719.934226</td>\n",
       "      <td>35</td>\n",
       "      <td>среднее</td>\n",
       "      <td>1</td>\n",
       "      <td>женат / замужем</td>\n",
       "      <td>0</td>\n",
       "      <td>F</td>\n",
       "      <td>сотрудник</td>\n",
       "      <td>0</td>\n",
       "      <td>289202.704229</td>\n",
       "      <td>недвижимость</td>\n",
       "    </tr>\n",
       "    <tr>\n",
       "      <th>17</th>\n",
       "      <td>0</td>\n",
       "      <td>-2369.999720</td>\n",
       "      <td>33</td>\n",
       "      <td>высшее</td>\n",
       "      <td>0</td>\n",
       "      <td>гражданский брак</td>\n",
       "      <td>1</td>\n",
       "      <td>M</td>\n",
       "      <td>сотрудник</td>\n",
       "      <td>0</td>\n",
       "      <td>90410.586745</td>\n",
       "      <td>строительство недвижимости</td>\n",
       "    </tr>\n",
       "    <tr>\n",
       "      <th>18</th>\n",
       "      <td>0</td>\n",
       "      <td>400281.136913</td>\n",
       "      <td>53</td>\n",
       "      <td>среднее</td>\n",
       "      <td>1</td>\n",
       "      <td>вдовец / вдова</td>\n",
       "      <td>2</td>\n",
       "      <td>F</td>\n",
       "      <td>пенсионер</td>\n",
       "      <td>0</td>\n",
       "      <td>56823.777243</td>\n",
       "      <td>на покупку подержанного автомобиля</td>\n",
       "    </tr>\n",
       "    <tr>\n",
       "      <th>19</th>\n",
       "      <td>0</td>\n",
       "      <td>-10038.818549</td>\n",
       "      <td>48</td>\n",
       "      <td>СРЕДНЕЕ</td>\n",
       "      <td>1</td>\n",
       "      <td>в разводе</td>\n",
       "      <td>3</td>\n",
       "      <td>F</td>\n",
       "      <td>сотрудник</td>\n",
       "      <td>0</td>\n",
       "      <td>242831.107982</td>\n",
       "      <td>на покупку своего автомобиля</td>\n",
       "    </tr>\n",
       "  </tbody>\n",
       "</table>\n",
       "</div>"
      ],
      "text/plain": [
       "    children  days_employed  dob_years            education  education_id  \\\n",
       "0          1   -8437.673028         42               высшее             0   \n",
       "1          1   -4024.803754         36              среднее             1   \n",
       "2          0   -5623.422610         33              Среднее             1   \n",
       "3          3   -4124.747207         32              среднее             1   \n",
       "4          0  340266.072047         53              среднее             1   \n",
       "5          0    -926.185831         27               высшее             0   \n",
       "6          0   -2879.202052         43               высшее             0   \n",
       "7          0    -152.779569         50              СРЕДНЕЕ             1   \n",
       "8          2   -6929.865299         35               ВЫСШЕЕ             0   \n",
       "9          0   -2188.756445         41              среднее             1   \n",
       "10         2   -4171.483647         36               высшее             0   \n",
       "11         0    -792.701887         40              среднее             1   \n",
       "12         0            NaN         65              среднее             1   \n",
       "13         0   -1846.641941         54  неоконченное высшее             2   \n",
       "14         0   -1844.956182         56               высшее             0   \n",
       "15         1    -972.364419         26              среднее             1   \n",
       "16         0   -1719.934226         35              среднее             1   \n",
       "17         0   -2369.999720         33               высшее             0   \n",
       "18         0  400281.136913         53              среднее             1   \n",
       "19         0  -10038.818549         48              СРЕДНЕЕ             1   \n",
       "\n",
       "       family_status  family_status_id gender income_type  debt  \\\n",
       "0    женат / замужем                 0      F   сотрудник     0   \n",
       "1    женат / замужем                 0      F   сотрудник     0   \n",
       "2    женат / замужем                 0      M   сотрудник     0   \n",
       "3    женат / замужем                 0      M   сотрудник     0   \n",
       "4   гражданский брак                 1      F   пенсионер     0   \n",
       "5   гражданский брак                 1      M   компаньон     0   \n",
       "6    женат / замужем                 0      F   компаньон     0   \n",
       "7    женат / замужем                 0      M   сотрудник     0   \n",
       "8   гражданский брак                 1      F   сотрудник     0   \n",
       "9    женат / замужем                 0      M   сотрудник     0   \n",
       "10   женат / замужем                 0      M   компаньон     0   \n",
       "11   женат / замужем                 0      F   сотрудник     0   \n",
       "12  гражданский брак                 1      M   пенсионер     0   \n",
       "13   женат / замужем                 0      F   сотрудник     0   \n",
       "14  гражданский брак                 1      F   компаньон     1   \n",
       "15   женат / замужем                 0      F   сотрудник     0   \n",
       "16   женат / замужем                 0      F   сотрудник     0   \n",
       "17  гражданский брак                 1      M   сотрудник     0   \n",
       "18    вдовец / вдова                 2      F   пенсионер     0   \n",
       "19         в разводе                 3      F   сотрудник     0   \n",
       "\n",
       "     total_income                                 purpose  \n",
       "0   253875.639453                           покупка жилья  \n",
       "1   112080.014102                 приобретение автомобиля  \n",
       "2   145885.952297                           покупка жилья  \n",
       "3   267628.550329              дополнительное образование  \n",
       "4   158616.077870                         сыграть свадьбу  \n",
       "5   255763.565419                           покупка жилья  \n",
       "6   240525.971920                       операции с жильем  \n",
       "7   135823.934197                             образование  \n",
       "8    95856.832424                   на проведение свадьбы  \n",
       "9   144425.938277                 покупка жилья для семьи  \n",
       "10  113943.491460                    покупка недвижимости  \n",
       "11   77069.234271       покупка коммерческой недвижимости  \n",
       "12            NaN                         сыграть свадьбу  \n",
       "13  130458.228857                 приобретение автомобиля  \n",
       "14  165127.911772              покупка жилой недвижимости  \n",
       "15  116820.904450  строительство собственной недвижимости  \n",
       "16  289202.704229                            недвижимость  \n",
       "17   90410.586745              строительство недвижимости  \n",
       "18   56823.777243      на покупку подержанного автомобиля  \n",
       "19  242831.107982            на покупку своего автомобиля  "
      ]
     },
     "execution_count": 3,
     "metadata": {},
     "output_type": "execute_result"
    }
   ],
   "source": [
    "data.head(20)"
   ]
  },
  {
   "cell_type": "markdown",
   "id": "a2a32002",
   "metadata": {
    "deletable": false,
    "editable": false,
    "id": "1c12e233"
   },
   "source": [
    "**Задание 3. Выведите основную информацию о датафрейме с помощью метода `info()`.**"
   ]
  },
  {
   "cell_type": "code",
   "execution_count": 4,
   "id": "88d60b79",
   "metadata": {
    "deletable": false,
    "id": "2b757bca",
    "outputId": "15376089-8dad-46c9-b520-c05248d43158"
   },
   "outputs": [
    {
     "name": "stdout",
     "output_type": "stream",
     "text": [
      "<class 'pandas.core.frame.DataFrame'>\n",
      "RangeIndex: 21525 entries, 0 to 21524\n",
      "Data columns (total 12 columns):\n",
      " #   Column            Non-Null Count  Dtype  \n",
      "---  ------            --------------  -----  \n",
      " 0   children          21525 non-null  int64  \n",
      " 1   days_employed     19351 non-null  float64\n",
      " 2   dob_years         21525 non-null  int64  \n",
      " 3   education         21525 non-null  object \n",
      " 4   education_id      21525 non-null  int64  \n",
      " 5   family_status     21525 non-null  object \n",
      " 6   family_status_id  21525 non-null  int64  \n",
      " 7   gender            21525 non-null  object \n",
      " 8   income_type       21525 non-null  object \n",
      " 9   debt              21525 non-null  int64  \n",
      " 10  total_income      19351 non-null  float64\n",
      " 11  purpose           21525 non-null  object \n",
      "dtypes: float64(2), int64(5), object(5)\n",
      "memory usage: 2.0+ MB\n"
     ]
    }
   ],
   "source": [
    "data.info()"
   ]
  },
  {
   "cell_type": "markdown",
   "id": "e901b919",
   "metadata": {
    "deletable": false,
    "editable": false,
    "id": "333ec665"
   },
   "source": [
    "## Предобработка данных"
   ]
  },
  {
   "cell_type": "markdown",
   "id": "dc32abe0",
   "metadata": {
    "deletable": false,
    "editable": false,
    "id": "02d92d53"
   },
   "source": [
    "### Удаление пропусков"
   ]
  },
  {
   "cell_type": "markdown",
   "id": "081c3058",
   "metadata": {
    "deletable": false,
    "editable": false,
    "id": "cd84967c"
   },
   "source": [
    "**Задание 4. Выведите количество пропущенных значений для каждого столбца. Используйте комбинацию двух методов.**"
   ]
  },
  {
   "cell_type": "code",
   "execution_count": 5,
   "id": "2fd442f2",
   "metadata": {
    "deletable": false,
    "id": "7f9b2309",
    "outputId": "81f4d817-781c-465c-ed15-91ce4446810d",
    "scrolled": false
   },
   "outputs": [
    {
     "data": {
      "text/plain": [
       "children               0\n",
       "days_employed       2174\n",
       "dob_years              0\n",
       "education              0\n",
       "education_id           0\n",
       "family_status          0\n",
       "family_status_id       0\n",
       "gender                 0\n",
       "income_type            0\n",
       "debt                   0\n",
       "total_income        2174\n",
       "purpose                0\n",
       "dtype: int64"
      ]
     },
     "execution_count": 5,
     "metadata": {},
     "output_type": "execute_result"
    }
   ],
   "source": [
    "data.isna().sum()"
   ]
  },
  {
   "cell_type": "code",
   "execution_count": 6,
   "id": "8204e6f3",
   "metadata": {},
   "outputs": [
    {
     "data": {
      "text/html": [
       "<div>\n",
       "<style scoped>\n",
       "    .dataframe tbody tr th:only-of-type {\n",
       "        vertical-align: middle;\n",
       "    }\n",
       "\n",
       "    .dataframe tbody tr th {\n",
       "        vertical-align: top;\n",
       "    }\n",
       "\n",
       "    .dataframe thead th {\n",
       "        text-align: right;\n",
       "    }\n",
       "</style>\n",
       "<table border=\"1\" class=\"dataframe\">\n",
       "  <thead>\n",
       "    <tr style=\"text-align: right;\">\n",
       "      <th></th>\n",
       "      <th>children</th>\n",
       "      <th>days_employed</th>\n",
       "      <th>dob_years</th>\n",
       "      <th>education</th>\n",
       "      <th>education_id</th>\n",
       "      <th>family_status</th>\n",
       "      <th>family_status_id</th>\n",
       "      <th>gender</th>\n",
       "      <th>income_type</th>\n",
       "      <th>debt</th>\n",
       "      <th>total_income</th>\n",
       "      <th>purpose</th>\n",
       "    </tr>\n",
       "  </thead>\n",
       "  <tbody>\n",
       "    <tr>\n",
       "      <th>12</th>\n",
       "      <td>0</td>\n",
       "      <td>NaN</td>\n",
       "      <td>65</td>\n",
       "      <td>среднее</td>\n",
       "      <td>1</td>\n",
       "      <td>гражданский брак</td>\n",
       "      <td>1</td>\n",
       "      <td>M</td>\n",
       "      <td>пенсионер</td>\n",
       "      <td>0</td>\n",
       "      <td>NaN</td>\n",
       "      <td>сыграть свадьбу</td>\n",
       "    </tr>\n",
       "    <tr>\n",
       "      <th>26</th>\n",
       "      <td>0</td>\n",
       "      <td>NaN</td>\n",
       "      <td>41</td>\n",
       "      <td>среднее</td>\n",
       "      <td>1</td>\n",
       "      <td>женат / замужем</td>\n",
       "      <td>0</td>\n",
       "      <td>M</td>\n",
       "      <td>госслужащий</td>\n",
       "      <td>0</td>\n",
       "      <td>NaN</td>\n",
       "      <td>образование</td>\n",
       "    </tr>\n",
       "    <tr>\n",
       "      <th>29</th>\n",
       "      <td>0</td>\n",
       "      <td>NaN</td>\n",
       "      <td>63</td>\n",
       "      <td>среднее</td>\n",
       "      <td>1</td>\n",
       "      <td>Не женат / не замужем</td>\n",
       "      <td>4</td>\n",
       "      <td>F</td>\n",
       "      <td>пенсионер</td>\n",
       "      <td>0</td>\n",
       "      <td>NaN</td>\n",
       "      <td>строительство жилой недвижимости</td>\n",
       "    </tr>\n",
       "    <tr>\n",
       "      <th>41</th>\n",
       "      <td>0</td>\n",
       "      <td>NaN</td>\n",
       "      <td>50</td>\n",
       "      <td>среднее</td>\n",
       "      <td>1</td>\n",
       "      <td>женат / замужем</td>\n",
       "      <td>0</td>\n",
       "      <td>F</td>\n",
       "      <td>госслужащий</td>\n",
       "      <td>0</td>\n",
       "      <td>NaN</td>\n",
       "      <td>сделка с подержанным автомобилем</td>\n",
       "    </tr>\n",
       "    <tr>\n",
       "      <th>55</th>\n",
       "      <td>0</td>\n",
       "      <td>NaN</td>\n",
       "      <td>54</td>\n",
       "      <td>среднее</td>\n",
       "      <td>1</td>\n",
       "      <td>гражданский брак</td>\n",
       "      <td>1</td>\n",
       "      <td>F</td>\n",
       "      <td>пенсионер</td>\n",
       "      <td>1</td>\n",
       "      <td>NaN</td>\n",
       "      <td>сыграть свадьбу</td>\n",
       "    </tr>\n",
       "    <tr>\n",
       "      <th>65</th>\n",
       "      <td>0</td>\n",
       "      <td>NaN</td>\n",
       "      <td>21</td>\n",
       "      <td>среднее</td>\n",
       "      <td>1</td>\n",
       "      <td>Не женат / не замужем</td>\n",
       "      <td>4</td>\n",
       "      <td>M</td>\n",
       "      <td>компаньон</td>\n",
       "      <td>0</td>\n",
       "      <td>NaN</td>\n",
       "      <td>операции с коммерческой недвижимостью</td>\n",
       "    </tr>\n",
       "    <tr>\n",
       "      <th>67</th>\n",
       "      <td>0</td>\n",
       "      <td>NaN</td>\n",
       "      <td>52</td>\n",
       "      <td>высшее</td>\n",
       "      <td>0</td>\n",
       "      <td>женат / замужем</td>\n",
       "      <td>0</td>\n",
       "      <td>F</td>\n",
       "      <td>пенсионер</td>\n",
       "      <td>0</td>\n",
       "      <td>NaN</td>\n",
       "      <td>покупка жилья для семьи</td>\n",
       "    </tr>\n",
       "    <tr>\n",
       "      <th>72</th>\n",
       "      <td>1</td>\n",
       "      <td>NaN</td>\n",
       "      <td>32</td>\n",
       "      <td>высшее</td>\n",
       "      <td>0</td>\n",
       "      <td>женат / замужем</td>\n",
       "      <td>0</td>\n",
       "      <td>M</td>\n",
       "      <td>госслужащий</td>\n",
       "      <td>0</td>\n",
       "      <td>NaN</td>\n",
       "      <td>операции с коммерческой недвижимостью</td>\n",
       "    </tr>\n",
       "    <tr>\n",
       "      <th>82</th>\n",
       "      <td>2</td>\n",
       "      <td>NaN</td>\n",
       "      <td>50</td>\n",
       "      <td>высшее</td>\n",
       "      <td>0</td>\n",
       "      <td>женат / замужем</td>\n",
       "      <td>0</td>\n",
       "      <td>F</td>\n",
       "      <td>сотрудник</td>\n",
       "      <td>0</td>\n",
       "      <td>NaN</td>\n",
       "      <td>жилье</td>\n",
       "    </tr>\n",
       "    <tr>\n",
       "      <th>83</th>\n",
       "      <td>0</td>\n",
       "      <td>NaN</td>\n",
       "      <td>52</td>\n",
       "      <td>среднее</td>\n",
       "      <td>1</td>\n",
       "      <td>женат / замужем</td>\n",
       "      <td>0</td>\n",
       "      <td>M</td>\n",
       "      <td>сотрудник</td>\n",
       "      <td>0</td>\n",
       "      <td>NaN</td>\n",
       "      <td>жилье</td>\n",
       "    </tr>\n",
       "    <tr>\n",
       "      <th>90</th>\n",
       "      <td>2</td>\n",
       "      <td>NaN</td>\n",
       "      <td>35</td>\n",
       "      <td>высшее</td>\n",
       "      <td>0</td>\n",
       "      <td>женат / замужем</td>\n",
       "      <td>0</td>\n",
       "      <td>F</td>\n",
       "      <td>сотрудник</td>\n",
       "      <td>0</td>\n",
       "      <td>NaN</td>\n",
       "      <td>операции с жильем</td>\n",
       "    </tr>\n",
       "    <tr>\n",
       "      <th>94</th>\n",
       "      <td>1</td>\n",
       "      <td>NaN</td>\n",
       "      <td>34</td>\n",
       "      <td>высшее</td>\n",
       "      <td>0</td>\n",
       "      <td>гражданский брак</td>\n",
       "      <td>1</td>\n",
       "      <td>F</td>\n",
       "      <td>компаньон</td>\n",
       "      <td>0</td>\n",
       "      <td>NaN</td>\n",
       "      <td>на проведение свадьбы</td>\n",
       "    </tr>\n",
       "    <tr>\n",
       "      <th>96</th>\n",
       "      <td>0</td>\n",
       "      <td>NaN</td>\n",
       "      <td>44</td>\n",
       "      <td>СРЕДНЕЕ</td>\n",
       "      <td>1</td>\n",
       "      <td>женат / замужем</td>\n",
       "      <td>0</td>\n",
       "      <td>F</td>\n",
       "      <td>сотрудник</td>\n",
       "      <td>0</td>\n",
       "      <td>NaN</td>\n",
       "      <td>покупка жилой недвижимости</td>\n",
       "    </tr>\n",
       "    <tr>\n",
       "      <th>97</th>\n",
       "      <td>0</td>\n",
       "      <td>NaN</td>\n",
       "      <td>47</td>\n",
       "      <td>высшее</td>\n",
       "      <td>0</td>\n",
       "      <td>женат / замужем</td>\n",
       "      <td>0</td>\n",
       "      <td>F</td>\n",
       "      <td>сотрудник</td>\n",
       "      <td>0</td>\n",
       "      <td>NaN</td>\n",
       "      <td>профильное образование</td>\n",
       "    </tr>\n",
       "    <tr>\n",
       "      <th>120</th>\n",
       "      <td>0</td>\n",
       "      <td>NaN</td>\n",
       "      <td>46</td>\n",
       "      <td>среднее</td>\n",
       "      <td>1</td>\n",
       "      <td>женат / замужем</td>\n",
       "      <td>0</td>\n",
       "      <td>F</td>\n",
       "      <td>сотрудник</td>\n",
       "      <td>0</td>\n",
       "      <td>NaN</td>\n",
       "      <td>высшее образование</td>\n",
       "    </tr>\n",
       "    <tr>\n",
       "      <th>121</th>\n",
       "      <td>0</td>\n",
       "      <td>NaN</td>\n",
       "      <td>29</td>\n",
       "      <td>высшее</td>\n",
       "      <td>0</td>\n",
       "      <td>женат / замужем</td>\n",
       "      <td>0</td>\n",
       "      <td>F</td>\n",
       "      <td>компаньон</td>\n",
       "      <td>0</td>\n",
       "      <td>NaN</td>\n",
       "      <td>автомобиль</td>\n",
       "    </tr>\n",
       "    <tr>\n",
       "      <th>135</th>\n",
       "      <td>0</td>\n",
       "      <td>NaN</td>\n",
       "      <td>27</td>\n",
       "      <td>среднее</td>\n",
       "      <td>1</td>\n",
       "      <td>женат / замужем</td>\n",
       "      <td>0</td>\n",
       "      <td>M</td>\n",
       "      <td>компаньон</td>\n",
       "      <td>0</td>\n",
       "      <td>NaN</td>\n",
       "      <td>жилье</td>\n",
       "    </tr>\n",
       "    <tr>\n",
       "      <th>141</th>\n",
       "      <td>0</td>\n",
       "      <td>NaN</td>\n",
       "      <td>39</td>\n",
       "      <td>среднее</td>\n",
       "      <td>1</td>\n",
       "      <td>гражданский брак</td>\n",
       "      <td>1</td>\n",
       "      <td>M</td>\n",
       "      <td>сотрудник</td>\n",
       "      <td>0</td>\n",
       "      <td>NaN</td>\n",
       "      <td>свадьба</td>\n",
       "    </tr>\n",
       "    <tr>\n",
       "      <th>145</th>\n",
       "      <td>0</td>\n",
       "      <td>NaN</td>\n",
       "      <td>62</td>\n",
       "      <td>среднее</td>\n",
       "      <td>1</td>\n",
       "      <td>женат / замужем</td>\n",
       "      <td>0</td>\n",
       "      <td>M</td>\n",
       "      <td>пенсионер</td>\n",
       "      <td>0</td>\n",
       "      <td>NaN</td>\n",
       "      <td>строительство недвижимости</td>\n",
       "    </tr>\n",
       "    <tr>\n",
       "      <th>174</th>\n",
       "      <td>0</td>\n",
       "      <td>NaN</td>\n",
       "      <td>55</td>\n",
       "      <td>высшее</td>\n",
       "      <td>0</td>\n",
       "      <td>вдовец / вдова</td>\n",
       "      <td>2</td>\n",
       "      <td>F</td>\n",
       "      <td>компаньон</td>\n",
       "      <td>0</td>\n",
       "      <td>NaN</td>\n",
       "      <td>свой автомобиль</td>\n",
       "    </tr>\n",
       "  </tbody>\n",
       "</table>\n",
       "</div>"
      ],
      "text/plain": [
       "     children  days_employed  dob_years education  education_id  \\\n",
       "12          0            NaN         65   среднее             1   \n",
       "26          0            NaN         41   среднее             1   \n",
       "29          0            NaN         63   среднее             1   \n",
       "41          0            NaN         50   среднее             1   \n",
       "55          0            NaN         54   среднее             1   \n",
       "65          0            NaN         21   среднее             1   \n",
       "67          0            NaN         52    высшее             0   \n",
       "72          1            NaN         32    высшее             0   \n",
       "82          2            NaN         50    высшее             0   \n",
       "83          0            NaN         52   среднее             1   \n",
       "90          2            NaN         35    высшее             0   \n",
       "94          1            NaN         34    высшее             0   \n",
       "96          0            NaN         44   СРЕДНЕЕ             1   \n",
       "97          0            NaN         47    высшее             0   \n",
       "120         0            NaN         46   среднее             1   \n",
       "121         0            NaN         29    высшее             0   \n",
       "135         0            NaN         27   среднее             1   \n",
       "141         0            NaN         39   среднее             1   \n",
       "145         0            NaN         62   среднее             1   \n",
       "174         0            NaN         55    высшее             0   \n",
       "\n",
       "             family_status  family_status_id gender  income_type  debt  \\\n",
       "12        гражданский брак                 1      M    пенсионер     0   \n",
       "26         женат / замужем                 0      M  госслужащий     0   \n",
       "29   Не женат / не замужем                 4      F    пенсионер     0   \n",
       "41         женат / замужем                 0      F  госслужащий     0   \n",
       "55        гражданский брак                 1      F    пенсионер     1   \n",
       "65   Не женат / не замужем                 4      M    компаньон     0   \n",
       "67         женат / замужем                 0      F    пенсионер     0   \n",
       "72         женат / замужем                 0      M  госслужащий     0   \n",
       "82         женат / замужем                 0      F    сотрудник     0   \n",
       "83         женат / замужем                 0      M    сотрудник     0   \n",
       "90         женат / замужем                 0      F    сотрудник     0   \n",
       "94        гражданский брак                 1      F    компаньон     0   \n",
       "96         женат / замужем                 0      F    сотрудник     0   \n",
       "97         женат / замужем                 0      F    сотрудник     0   \n",
       "120        женат / замужем                 0      F    сотрудник     0   \n",
       "121        женат / замужем                 0      F    компаньон     0   \n",
       "135        женат / замужем                 0      M    компаньон     0   \n",
       "141       гражданский брак                 1      M    сотрудник     0   \n",
       "145        женат / замужем                 0      M    пенсионер     0   \n",
       "174         вдовец / вдова                 2      F    компаньон     0   \n",
       "\n",
       "     total_income                                purpose  \n",
       "12            NaN                        сыграть свадьбу  \n",
       "26            NaN                            образование  \n",
       "29            NaN       строительство жилой недвижимости  \n",
       "41            NaN       сделка с подержанным автомобилем  \n",
       "55            NaN                        сыграть свадьбу  \n",
       "65            NaN  операции с коммерческой недвижимостью  \n",
       "67            NaN                покупка жилья для семьи  \n",
       "72            NaN  операции с коммерческой недвижимостью  \n",
       "82            NaN                                  жилье  \n",
       "83            NaN                                  жилье  \n",
       "90            NaN                      операции с жильем  \n",
       "94            NaN                  на проведение свадьбы  \n",
       "96            NaN             покупка жилой недвижимости  \n",
       "97            NaN                 профильное образование  \n",
       "120           NaN                     высшее образование  \n",
       "121           NaN                             автомобиль  \n",
       "135           NaN                                  жилье  \n",
       "141           NaN                                свадьба  \n",
       "145           NaN             строительство недвижимости  \n",
       "174           NaN                        свой автомобиль  "
      ]
     },
     "execution_count": 6,
     "metadata": {},
     "output_type": "execute_result"
    }
   ],
   "source": [
    "data[data.isna().any(1)].head(20)"
   ]
  },
  {
   "cell_type": "markdown",
   "id": "ed48f542",
   "metadata": {
    "deletable": false,
    "editable": false,
    "id": "db86e27b"
   },
   "source": [
    "**Задание 5. В двух столбцах есть пропущенные значения. Один из них — `days_employed`. Пропуски в этом столбце вы обработаете на следующем этапе. Другой столбец с пропущенными значениями — `total_income` — хранит данные о доходах. На сумму дохода сильнее всего влияет тип занятости, поэтому заполнить пропуски в этом столбце нужно медианным значением по каждому типу из столбца `income_type`. Например, у человека с типом занятости `сотрудник` пропуск в столбце `total_income` должен быть заполнен медианным доходом среди всех записей с тем же типом.**"
   ]
  },
  {
   "cell_type": "code",
   "execution_count": 7,
   "id": "03311116",
   "metadata": {
    "deletable": false,
    "id": "42006a93"
   },
   "outputs": [],
   "source": [
    "for t in data['income_type'].unique():\n",
    "    data.loc[(data['income_type'] == t) & (data['total_income'].isna()), 'total_income'] = \\\n",
    "    data.loc[(data['income_type'] == t), 'total_income'].median()"
   ]
  },
  {
   "cell_type": "markdown",
   "id": "312cd2d3",
   "metadata": {
    "deletable": false,
    "editable": false,
    "id": "89da5ece"
   },
   "source": [
    "### Обработка аномальных значений"
   ]
  },
  {
   "cell_type": "markdown",
   "id": "55f75435",
   "metadata": {
    "deletable": false,
    "editable": false,
    "id": "57964554"
   },
   "source": [
    "**Задание 6. В данных могут встречаться артефакты (аномалии) — значения, которые не отражают действительность и появились по какой-то ошибке. таким артефактом будет отрицательное количество дней трудового стажа в столбце `days_employed`. Для реальных данных это нормально. Обработайте значения в этом столбце: замените все отрицательные значения положительными с помощью метода `abs()`.**"
   ]
  },
  {
   "cell_type": "code",
   "execution_count": 8,
   "id": "b67b3081",
   "metadata": {
    "deletable": false,
    "id": "f6f055bf"
   },
   "outputs": [],
   "source": [
    "data['days_employed'] = data['days_employed'].abs()"
   ]
  },
  {
   "cell_type": "markdown",
   "id": "2919881e",
   "metadata": {
    "deletable": false,
    "editable": false,
    "id": "6107dd2f"
   },
   "source": [
    "**Задание 7. Для каждого типа занятости выведите медианное значение трудового стажа `days_employed` в днях.**"
   ]
  },
  {
   "cell_type": "code",
   "execution_count": 9,
   "id": "b7ee71cd",
   "metadata": {
    "deletable": false,
    "id": "85a5faf6",
    "outputId": "801ef80e-522b-4668-f34e-565af7432bcf"
   },
   "outputs": [
    {
     "data": {
      "text/plain": [
       "income_type\n",
       "безработный        366413.652744\n",
       "в декрете            3296.759962\n",
       "госслужащий          2689.368353\n",
       "компаньон            1547.382223\n",
       "пенсионер          365213.306266\n",
       "предприниматель       520.848083\n",
       "сотрудник            1574.202821\n",
       "студент               578.751554\n",
       "Name: days_employed, dtype: float64"
      ]
     },
     "execution_count": 9,
     "metadata": {},
     "output_type": "execute_result"
    }
   ],
   "source": [
    "data.groupby('income_type')['days_employed'].agg('median')"
   ]
  },
  {
   "cell_type": "markdown",
   "id": "4e4ab962",
   "metadata": {
    "deletable": false,
    "editable": false,
    "id": "38d1a030"
   },
   "source": [
    "У двух типов (безработные и пенсионеры) получатся аномально большие значения. Исправить такие значения сложно, поэтому оставьте их как есть. Тем более этот столбец не понадобится вам для исследования."
   ]
  },
  {
   "cell_type": "markdown",
   "id": "a3dfb660",
   "metadata": {
    "deletable": false,
    "editable": false,
    "id": "d8a9f147"
   },
   "source": [
    "**Задание 8. Выведите перечень уникальных значений столбца `children`.**"
   ]
  },
  {
   "cell_type": "code",
   "execution_count": 10,
   "id": "62f4b4aa",
   "metadata": {
    "deletable": false,
    "id": "ef5056eb",
    "outputId": "6975b15c-7f95-4697-d16d-a0c79b657b03"
   },
   "outputs": [
    {
     "data": {
      "text/plain": [
       "array([ 1,  0,  3,  2, -1,  4, 20,  5])"
      ]
     },
     "execution_count": 10,
     "metadata": {},
     "output_type": "execute_result"
    }
   ],
   "source": [
    "data['children'].unique()"
   ]
  },
  {
   "cell_type": "markdown",
   "id": "fba0e398",
   "metadata": {
    "deletable": false,
    "editable": false,
    "id": "40b9ebf2"
   },
   "source": [
    "**Задание 9. В столбце `children` есть два аномальных значения. Удалите строки, в которых встречаются такие аномальные значения из датафрейма `data`.**"
   ]
  },
  {
   "cell_type": "code",
   "execution_count": 11,
   "id": "f060d6d0",
   "metadata": {
    "deletable": false,
    "id": "3ff9801d"
   },
   "outputs": [],
   "source": [
    "data = data[(data['children'] != -1) & (data['children'] != 20)]"
   ]
  },
  {
   "cell_type": "markdown",
   "id": "54157f48",
   "metadata": {
    "deletable": false,
    "editable": false,
    "id": "bbc4d0ce"
   },
   "source": [
    "**Задание 10. Ещё раз выведите перечень уникальных значений столбца `children`, чтобы убедиться, что артефакты удалены.**"
   ]
  },
  {
   "cell_type": "code",
   "execution_count": 12,
   "id": "fdb99c10",
   "metadata": {
    "deletable": false,
    "id": "ad4fa8b7",
    "outputId": "b2097101-d49d-44d9-901b-32a65c9463d1"
   },
   "outputs": [
    {
     "data": {
      "text/plain": [
       "array([1, 0, 3, 2, 4, 5])"
      ]
     },
     "execution_count": 12,
     "metadata": {},
     "output_type": "execute_result"
    }
   ],
   "source": [
    "data['children'].unique()"
   ]
  },
  {
   "cell_type": "markdown",
   "id": "03a036fa",
   "metadata": {
    "deletable": false,
    "editable": false,
    "id": "75440b63"
   },
   "source": [
    "### Удаление пропусков (продолжение)"
   ]
  },
  {
   "cell_type": "markdown",
   "id": "0cca69c0",
   "metadata": {
    "deletable": false,
    "editable": false,
    "id": "f4ea573f"
   },
   "source": [
    "**Задание 11. Заполните пропуски в столбце `days_employed` медианными значениями по каждого типа занятости `income_type`.**"
   ]
  },
  {
   "cell_type": "code",
   "execution_count": 13,
   "id": "6dd453ea",
   "metadata": {
    "deletable": false,
    "id": "af6b1a7e"
   },
   "outputs": [],
   "source": [
    "for t in data['income_type'].unique():\n",
    "    data.loc[(data['income_type'] == t) & (data['days_employed'].isna()), 'days_employed'] = \\\n",
    "    data.loc[(data['income_type'] == t), 'days_employed'].median()"
   ]
  },
  {
   "cell_type": "markdown",
   "id": "99f235f2",
   "metadata": {
    "deletable": false,
    "editable": false,
    "id": "2753f40d"
   },
   "source": [
    "**Задание 12. Убедитесь, что все пропуски заполнены. Проверьте себя и ещё раз выведите количество пропущенных значений для каждого столбца с помощью двух методов.**"
   ]
  },
  {
   "cell_type": "code",
   "execution_count": 14,
   "id": "96a6610e",
   "metadata": {
    "deletable": false,
    "id": "55f78bc2",
    "outputId": "8da1e4e1-358e-4e87-98c9-f261bce0a7b2"
   },
   "outputs": [
    {
     "data": {
      "text/plain": [
       "children            0\n",
       "days_employed       0\n",
       "dob_years           0\n",
       "education           0\n",
       "education_id        0\n",
       "family_status       0\n",
       "family_status_id    0\n",
       "gender              0\n",
       "income_type         0\n",
       "debt                0\n",
       "total_income        0\n",
       "purpose             0\n",
       "dtype: int64"
      ]
     },
     "execution_count": 14,
     "metadata": {},
     "output_type": "execute_result"
    }
   ],
   "source": [
    "data.isna().sum()"
   ]
  },
  {
   "cell_type": "markdown",
   "id": "c6a23089",
   "metadata": {
    "deletable": false,
    "editable": false,
    "id": "ddc81e43"
   },
   "source": [
    "### Изменение типов данных"
   ]
  },
  {
   "cell_type": "markdown",
   "id": "131e0cd1",
   "metadata": {
    "deletable": false,
    "editable": false,
    "id": "42d19d24"
   },
   "source": [
    "**Задание 13. Замените вещественный тип данных в столбце `total_income` на целочисленный с помощью метода `astype()`.**"
   ]
  },
  {
   "cell_type": "code",
   "execution_count": 15,
   "id": "aeb9a4be",
   "metadata": {
    "deletable": false,
    "id": "920b65ad"
   },
   "outputs": [],
   "source": [
    "data['total_income'] = data['total_income'].astype(int)"
   ]
  },
  {
   "cell_type": "markdown",
   "id": "a9f4bbd9",
   "metadata": {
    "deletable": false,
    "editable": false,
    "id": "80c420ba"
   },
   "source": [
    "### Обработка дубликатов"
   ]
  },
  {
   "cell_type": "markdown",
   "id": "0a45cd78",
   "metadata": {
    "deletable": false,
    "editable": false
   },
   "source": [
    "**Задание 14. Обработайте неявные дубликаты в столбце `education`. В этом столбце есть одни и те же значения, но записанные по-разному: с использованием заглавных и строчных букв. Приведите их к нижнему регистру. Проверьте остальные столбцы.**"
   ]
  },
  {
   "cell_type": "code",
   "execution_count": 16,
   "id": "8647e648",
   "metadata": {
    "deletable": false
   },
   "outputs": [],
   "source": [
    "data['education'] = data['education'].str.lower()"
   ]
  },
  {
   "cell_type": "markdown",
   "id": "a0905bbb",
   "metadata": {
    "deletable": false,
    "editable": false,
    "id": "dc587695"
   },
   "source": [
    "**Задание 15. Выведите на экран количество строк-дубликатов в данных. Если такие строки присутствуют, удалите их.**"
   ]
  },
  {
   "cell_type": "code",
   "execution_count": 17,
   "id": "a6587793",
   "metadata": {
    "deletable": false,
    "id": "3ee445e4",
    "outputId": "9684deba-1934-42d1-99e1-cda61740f822"
   },
   "outputs": [
    {
     "data": {
      "text/plain": [
       "71"
      ]
     },
     "execution_count": 17,
     "metadata": {},
     "output_type": "execute_result"
    }
   ],
   "source": [
    "data.duplicated().sum()"
   ]
  },
  {
   "cell_type": "code",
   "execution_count": 18,
   "id": "640877c5",
   "metadata": {
    "deletable": false,
    "id": "8575fe05"
   },
   "outputs": [],
   "source": [
    "data = data.drop_duplicates()"
   ]
  },
  {
   "cell_type": "markdown",
   "id": "786f67a8",
   "metadata": {
    "deletable": false,
    "editable": false,
    "id": "9904cf55"
   },
   "source": [
    "### Категоризация данных"
   ]
  },
  {
   "cell_type": "markdown",
   "id": "d5962a7c",
   "metadata": {
    "deletable": false,
    "editable": false,
    "id": "72fcc8a2"
   },
   "source": [
    "**Задание 16. На основании диапазонов, указанных ниже, создайте в датафрейме `data` столбец `total_income_category` с категориями:**\n",
    "\n",
    "- 0–30000 — `'E'`;\n",
    "- 30001–50000 — `'D'`;\n",
    "- 50001–200000 — `'C'`;\n",
    "- 200001–1000000 — `'B'`;\n",
    "- 1000001 и выше — `'A'`.\n",
    "\n",
    "\n",
    "**Например, кредитополучателю с доходом 25000 нужно назначить категорию `'E'`, а клиенту, получающему 235000, — `'B'`. Используйте собственную функцию с именем `categorize_income()` и метод `apply()`.**"
   ]
  },
  {
   "cell_type": "code",
   "execution_count": 19,
   "id": "4fc4b93e",
   "metadata": {
    "deletable": false,
    "id": "e1771346"
   },
   "outputs": [],
   "source": [
    "def categorize_income(income):\n",
    "    try:\n",
    "        if 0 <= income <= 30000:\n",
    "            return 'E'\n",
    "        elif 30001 <= income <= 50000:\n",
    "            return 'D'\n",
    "        elif 50001 <= income <= 200000:\n",
    "            return 'C'\n",
    "        elif 200001 <= income <= 1000000:\n",
    "            return 'B'\n",
    "        elif income >= 1000001:\n",
    "            return 'A'\n",
    "    except:\n",
    "        pass"
   ]
  },
  {
   "cell_type": "code",
   "execution_count": 20,
   "id": "2a5fe945",
   "metadata": {
    "deletable": false,
    "id": "d5f3586d"
   },
   "outputs": [],
   "source": [
    "data['total_income_category'] = data['total_income'].apply(categorize_income)"
   ]
  },
  {
   "cell_type": "markdown",
   "id": "017f16a5",
   "metadata": {
    "deletable": false,
    "editable": false,
    "id": "dde49b5c"
   },
   "source": [
    "**Задание 17. Выведите на экран перечень уникальных целей взятия кредита из столбца `purpose`.**"
   ]
  },
  {
   "cell_type": "code",
   "execution_count": 21,
   "id": "f488a21e",
   "metadata": {
    "deletable": false,
    "id": "f67ce9b3",
    "outputId": "673c12d9-7d7e-4ae0-9812-c622c89dd244"
   },
   "outputs": [
    {
     "data": {
      "text/plain": [
       "array(['покупка жилья', 'приобретение автомобиля',\n",
       "       'дополнительное образование', 'сыграть свадьбу',\n",
       "       'операции с жильем', 'образование', 'на проведение свадьбы',\n",
       "       'покупка жилья для семьи', 'покупка недвижимости',\n",
       "       'покупка коммерческой недвижимости', 'покупка жилой недвижимости',\n",
       "       'строительство собственной недвижимости', 'недвижимость',\n",
       "       'строительство недвижимости', 'на покупку подержанного автомобиля',\n",
       "       'на покупку своего автомобиля',\n",
       "       'операции с коммерческой недвижимостью',\n",
       "       'строительство жилой недвижимости', 'жилье',\n",
       "       'операции со своей недвижимостью', 'автомобили',\n",
       "       'заняться образованием', 'сделка с подержанным автомобилем',\n",
       "       'получение образования', 'автомобиль', 'свадьба',\n",
       "       'получение дополнительного образования', 'покупка своего жилья',\n",
       "       'операции с недвижимостью', 'получение высшего образования',\n",
       "       'свой автомобиль', 'сделка с автомобилем',\n",
       "       'профильное образование', 'высшее образование',\n",
       "       'покупка жилья для сдачи', 'на покупку автомобиля', 'ремонт жилью',\n",
       "       'заняться высшим образованием'], dtype=object)"
      ]
     },
     "execution_count": 21,
     "metadata": {},
     "output_type": "execute_result"
    }
   ],
   "source": [
    "data['purpose'].unique()"
   ]
  },
  {
   "cell_type": "markdown",
   "id": "922e2c2d",
   "metadata": {
    "deletable": false,
    "editable": false,
    "id": "85d0aef0"
   },
   "source": [
    "**Задание 18. Создайте функцию, которая на основании данных из столбца `purpose` сформирует новый столбец `purpose_category`, в который войдут следующие категории:**\n",
    "\n",
    "- `'операции с автомобилем'`,\n",
    "- `'операции с недвижимостью'`,\n",
    "- `'проведение свадьбы'`,\n",
    "- `'получение образования'`.\n",
    "\n",
    "**Например, если в столбце `purpose` находится подстрока `'на покупку автомобиля'`, то в столбце `purpose_category` должна появиться строка `'операции с автомобилем'`.**\n",
    "\n",
    "**Используйте собственную функцию с именем `categorize_purpose()` и метод `apply()`. Изучите данные в столбце `purpose` и определите, какие подстроки помогут вам правильно определить категорию.**"
   ]
  },
  {
   "cell_type": "code",
   "execution_count": 22,
   "id": "80aa87a6",
   "metadata": {
    "deletable": false,
    "id": "e149fab4"
   },
   "outputs": [],
   "source": [
    "def categorize_purpose(row):\n",
    "    try:\n",
    "        if 'автом' in row:\n",
    "            return 'операции с автомобилем'\n",
    "        elif 'жил' in row or 'недвиж' in row:\n",
    "            return 'операции с недвижимостью'\n",
    "        elif 'свад' in row:\n",
    "            return 'проведение свадьбы'\n",
    "        elif 'образов' in row:\n",
    "            return 'получение образования'\n",
    "    except:\n",
    "        return 'нет категории'"
   ]
  },
  {
   "cell_type": "code",
   "execution_count": 23,
   "id": "08b13fa0",
   "metadata": {
    "deletable": false,
    "id": "bf36e69b"
   },
   "outputs": [],
   "source": [
    "data['purpose_category'] = data['purpose'].apply(categorize_purpose)"
   ]
  },
  {
   "cell_type": "markdown",
   "id": "1bf799b6",
   "metadata": {
    "deletable": false,
    "editable": false,
    "id": "09b242bf"
   },
   "source": [
    "### Шаг 3. Исследуйте данные и ответьте на вопросы"
   ]
  },
  {
   "cell_type": "markdown",
   "id": "2c825b22",
   "metadata": {
    "deletable": false,
    "editable": false,
    "id": "c5d66278"
   },
   "source": [
    "#### 3.1 Есть ли зависимость между количеством детей и возвратом кредита в срок?"
   ]
  },
  {
   "cell_type": "markdown",
   "id": "f4b0564a",
   "metadata": {},
   "source": [
    "Для ответа на этот вопрос необходимо выполнить следующие шаги:\n",
    "\n",
    "* Сгрупировать данные и найти общее количество в каждой группе\n",
    "* Узнать количество людей вернувших кредит в срок в каждой группе и их долю от общего количества\n",
    "* Для каждой группы рассчитать процент возврата кредит в срок, путем деления общего количества на вернувших кредит в срок"
   ]
  },
  {
   "cell_type": "code",
   "execution_count": 24,
   "id": "a0064bab",
   "metadata": {
    "scrolled": true
   },
   "outputs": [
    {
     "data": {
      "text/plain": [
       "children\n",
       "0    14091\n",
       "1     4808\n",
       "2     2052\n",
       "3      330\n",
       "4       41\n",
       "5        9\n",
       "Name: debt, dtype: int64"
      ]
     },
     "execution_count": 24,
     "metadata": {},
     "output_type": "execute_result"
    }
   ],
   "source": [
    "#группировка данных по столбцу children и подсчет общего количества людей в группе\n",
    "data.groupby('children')['debt'].count()"
   ]
  },
  {
   "cell_type": "code",
   "execution_count": 25,
   "id": "da07d65a",
   "metadata": {
    "deletable": false,
    "id": "2cacfc4a",
    "scrolled": false
   },
   "outputs": [
    {
     "data": {
      "text/html": [
       "<div>\n",
       "<style scoped>\n",
       "    .dataframe tbody tr th:only-of-type {\n",
       "        vertical-align: middle;\n",
       "    }\n",
       "\n",
       "    .dataframe tbody tr th {\n",
       "        vertical-align: top;\n",
       "    }\n",
       "\n",
       "    .dataframe thead th {\n",
       "        text-align: right;\n",
       "    }\n",
       "</style>\n",
       "<table border=\"1\" class=\"dataframe\">\n",
       "  <thead>\n",
       "    <tr style=\"text-align: right;\">\n",
       "      <th>debt</th>\n",
       "      <th>0</th>\n",
       "      <th>1</th>\n",
       "    </tr>\n",
       "    <tr>\n",
       "      <th>children</th>\n",
       "      <th></th>\n",
       "      <th></th>\n",
       "    </tr>\n",
       "  </thead>\n",
       "  <tbody>\n",
       "    <tr>\n",
       "      <th>0</th>\n",
       "      <td>13028.0</td>\n",
       "      <td>1063.0</td>\n",
       "    </tr>\n",
       "    <tr>\n",
       "      <th>1</th>\n",
       "      <td>4364.0</td>\n",
       "      <td>444.0</td>\n",
       "    </tr>\n",
       "    <tr>\n",
       "      <th>2</th>\n",
       "      <td>1858.0</td>\n",
       "      <td>194.0</td>\n",
       "    </tr>\n",
       "    <tr>\n",
       "      <th>3</th>\n",
       "      <td>303.0</td>\n",
       "      <td>27.0</td>\n",
       "    </tr>\n",
       "    <tr>\n",
       "      <th>4</th>\n",
       "      <td>37.0</td>\n",
       "      <td>4.0</td>\n",
       "    </tr>\n",
       "    <tr>\n",
       "      <th>5</th>\n",
       "      <td>9.0</td>\n",
       "      <td>NaN</td>\n",
       "    </tr>\n",
       "  </tbody>\n",
       "</table>\n",
       "</div>"
      ],
      "text/plain": [
       "debt            0       1\n",
       "children                 \n",
       "0         13028.0  1063.0\n",
       "1          4364.0   444.0\n",
       "2          1858.0   194.0\n",
       "3           303.0    27.0\n",
       "4            37.0     4.0\n",
       "5             9.0     NaN"
      ]
     },
     "execution_count": 25,
     "metadata": {},
     "output_type": "execute_result"
    }
   ],
   "source": [
    "#определение количесва вернувших людей в срок в каждой группе\n",
    "data.pivot_table(index='children', columns='debt', values='total_income',aggfunc='count')"
   ]
  },
  {
   "cell_type": "markdown",
   "id": "fc622df8",
   "metadata": {},
   "source": [
    "Расчет доли каждой группы:"
   ]
  },
  {
   "cell_type": "code",
   "execution_count": 26,
   "id": "c6064b9b",
   "metadata": {},
   "outputs": [
    {
     "name": "stdout",
     "output_type": "stream",
     "text": [
      "0 детей: 66.06%\n",
      "1 детей: 22.54%\n",
      "2 детей: 9.62%\n",
      "3 детей: 1.55%\n",
      "4 детей: 0.19%\n",
      "5 детей: 0.04%\n"
     ]
    }
   ],
   "source": [
    "summary = data.groupby('children')['debt'].count().sum()\n",
    "print(f'0 детей: {14091/summary:.2%}')\n",
    "print(f'1 детей: {4808/summary:.2%}')\n",
    "print(f'2 детей: {2052/summary:.2%}')\n",
    "print(f'3 детей: {330/summary:.2%}')\n",
    "print(f'4 детей: {41/summary:.2%}')\n",
    "print(f'5 детей: {9/summary:.2%}')\n"
   ]
  },
  {
   "cell_type": "code",
   "execution_count": 27,
   "id": "bc9ed35d",
   "metadata": {},
   "outputs": [
    {
     "name": "stdout",
     "output_type": "stream",
     "text": [
      "При количестве детей: 0\n",
      "Процент погашения кредита в срок равен: 92.46%\n",
      "\n",
      "При количестве детей: 1\n",
      "Процент погашения кредита в срок равен: 90.77%\n",
      "\n",
      "При количестве детей: 2\n",
      "Процент погашения кредита в срок равен: 90.55%\n",
      "\n",
      "При количестве детей: 3\n",
      "Процент погашения кредита в срок равен: 91.82%\n",
      "\n",
      "При количестве детей: 4\n",
      "Процент погашения кредита в срок равен: 90.24%\n",
      "\n",
      "При количестве детей: 5\n",
      "Процент погашения кредита в срок равен: 100.00%\n",
      "\n"
     ]
    }
   ],
   "source": [
    "#Рассчет процента вернувших кредит в срок в каждой группе\n",
    "for children in data['children'].sort_values().unique():\n",
    "    total = data[data['children'] == children]['children'].count() #Подсчет общего количества людей в группе\n",
    "    no_debt = data[(data['children'] == children) & (data['debt'] == 0)]['children'].count() #Подсчет количества людей вернувших кредит в срок\n",
    "    no_debt_value = no_debt / total #Рассчет процента вернувших кредит в срок от общего количества людей\n",
    "    print(f'При количестве детей: {children}\\nПроцент погашения кредита в срок равен: {no_debt_value:.2%}\\n')\n"
   ]
  },
  {
   "cell_type": "markdown",
   "id": "8c94f93a",
   "metadata": {},
   "source": [
    "<div class=\"alert alert-warning\">\n",
    "<h2> Комментарий ревьюера <a class=\"tocSkip\"> </h2>\n",
    "    \n",
    "<b>Некоторые замечания и рекомендации💡:</b> \n",
    "\n",
    "Ты верно используешь группировку и получаешь правильный результат. Ты выводишь на экран количество данных по каждой категории. Это отлично, потому что так мы видим, что у нас не во всех категориях достаточно данных для анализа.\n",
    "    \n",
    "Я бы сфокусировал внимание не на тех, кто отдал кредит, а на доле должников. Предпологаем, что банку важнее увидеть проблемные места и минимизировать риски.\n",
    "    \n",
    "Удобнее смотреть на все данные, упаковав их в одну таблицу. На самом деле, сделать это достаточно просто. Проще, чем писать код для каждого из вычислений отдельно.\n",
    "\n",
    "Можно вывести в таблицу следующие по смыслу колонки: количество детей (это будет индекс в получившейся таблице), количество заемщиков, количество должников и долю невозврата. Сделать это можно как группировкой, так и (на мой взгляд, удобнее) с помощью сводных таблиц `pivot_table()`.\n",
    "\n",
    "Подробнее про сводные таблицы здесь: https://pythobyte.com/pandas-pivot-tables-259210c6/ \n",
    "    \n",
    "По коду предлагаю такой план:\n",
    "    \n",
    "1) В aggfunc сводной таблицы можно передавать список функций. Например, так: `aggfunc=['median', 'min', 'max']` У нас, соответственно, будут другие функции :)\n",
    "    \n",
    "2) Долю должников можно вычислить не только делением одного столбца на другой, но и с помощью `aggfunc='mean'`, так как этот показатель − среднее между нулями и единицами (среднее = сумма элементов, деленная на их количество).\n",
    "    \n",
    "3) Для наглядности, колонки можно переназвать. `grouped_by_children.columns = ['первое название', 'второе название', '...']`\n",
    "        \n",
    "В дальнейших расчетах можно будет переиспользовать код.\n",
    "\n",
    "</div>\n"
   ]
  },
  {
   "cell_type": "markdown",
   "id": "04b3752b",
   "metadata": {},
   "source": [
    "<font color='blue'>Добавил все в одну таблицу. Действительно оказалось проще, чем писать все группировкой по отдельности</font>"
   ]
  },
  {
   "cell_type": "code",
   "execution_count": 36,
   "id": "02dea723",
   "metadata": {},
   "outputs": [],
   "source": [
    "def percent(x):\n",
    "    return \"{0:.2%}\".format(x)"
   ]
  },
  {
   "cell_type": "markdown",
   "id": "3c4466b8",
   "metadata": {},
   "source": [
    "<font color='blue'>Единственное для перевода столбца к Процентоному формату пришлось изобрести такой не самый изящный способ. Можешь подсказать, как это сделать красивее?</font>"
   ]
  },
  {
   "cell_type": "markdown",
   "id": "b5a0c678",
   "metadata": {},
   "source": [
    "<div class=\"alert alert-success\">\n",
    "<h2> Комментарий ревьюера #2 <a class=\"tocSkip\"> </h2>\n",
    "\n",
    "👍 Хм, мне кажется, так вполне нормально. Единственное, можно в эту же функцию еще засунуть mean(), а затем ее подать в список aggfunc вместо mean().\n",
    "</div>\n"
   ]
  },
  {
   "cell_type": "code",
   "execution_count": 37,
   "id": "61956a41",
   "metadata": {
    "scrolled": true
   },
   "outputs": [
    {
     "data": {
      "text/html": [
       "<div>\n",
       "<style scoped>\n",
       "    .dataframe tbody tr th:only-of-type {\n",
       "        vertical-align: middle;\n",
       "    }\n",
       "\n",
       "    .dataframe tbody tr th {\n",
       "        vertical-align: top;\n",
       "    }\n",
       "\n",
       "    .dataframe thead th {\n",
       "        text-align: right;\n",
       "    }\n",
       "</style>\n",
       "<table border=\"1\" class=\"dataframe\">\n",
       "  <thead>\n",
       "    <tr style=\"text-align: right;\">\n",
       "      <th></th>\n",
       "      <th>Кол-во заемщиков</th>\n",
       "      <th>Кол-во должников</th>\n",
       "      <th>Доля должников</th>\n",
       "    </tr>\n",
       "    <tr>\n",
       "      <th>children</th>\n",
       "      <th></th>\n",
       "      <th></th>\n",
       "      <th></th>\n",
       "    </tr>\n",
       "  </thead>\n",
       "  <tbody>\n",
       "    <tr>\n",
       "      <th>0</th>\n",
       "      <td>14091</td>\n",
       "      <td>1063</td>\n",
       "      <td>7.54%</td>\n",
       "    </tr>\n",
       "    <tr>\n",
       "      <th>1</th>\n",
       "      <td>4808</td>\n",
       "      <td>444</td>\n",
       "      <td>9.23%</td>\n",
       "    </tr>\n",
       "    <tr>\n",
       "      <th>2</th>\n",
       "      <td>2052</td>\n",
       "      <td>194</td>\n",
       "      <td>9.45%</td>\n",
       "    </tr>\n",
       "    <tr>\n",
       "      <th>3</th>\n",
       "      <td>330</td>\n",
       "      <td>27</td>\n",
       "      <td>8.18%</td>\n",
       "    </tr>\n",
       "    <tr>\n",
       "      <th>4</th>\n",
       "      <td>41</td>\n",
       "      <td>4</td>\n",
       "      <td>9.76%</td>\n",
       "    </tr>\n",
       "    <tr>\n",
       "      <th>5</th>\n",
       "      <td>9</td>\n",
       "      <td>0</td>\n",
       "      <td>0.00%</td>\n",
       "    </tr>\n",
       "  </tbody>\n",
       "</table>\n",
       "</div>"
      ],
      "text/plain": [
       "          Кол-во заемщиков  Кол-во должников Доля должников\n",
       "children                                                   \n",
       "0                    14091              1063          7.54%\n",
       "1                     4808               444          9.23%\n",
       "2                     2052               194          9.45%\n",
       "3                      330                27          8.18%\n",
       "4                       41                 4          9.76%\n",
       "5                        9                 0          0.00%"
      ]
     },
     "metadata": {},
     "output_type": "display_data"
    }
   ],
   "source": [
    "grouped_by_children = data.pivot_table('debt', index='children', aggfunc=['count', 'sum', 'mean'])\n",
    "grouped_by_children.columns = ['Кол-во заемщиков', 'Кол-во должников', 'Доля должников']\n",
    "grouped_by_children['Доля должников'] = grouped_by_children['Доля должников'].apply(percent)\n",
    "\n",
    "display(grouped_by_children)"
   ]
  },
  {
   "cell_type": "markdown",
   "id": "0bac6c12",
   "metadata": {
    "deletable": false,
    "id": "3a6b99ec"
   },
   "source": [
    "**Вывод:** "
   ]
  },
  {
   "cell_type": "markdown",
   "id": "9c170e3e",
   "metadata": {},
   "source": [
    "Ответ на поставленный вопрос: Да, зависимость есть.\n",
    "\n",
    "Из данных таблиц можно сделать следующие выводы:\n",
    "\n",
    "* При увеличении количества детей от 0 до 2, процент выплаты кредита в срок уменьшается. Это может быть обусловленно тем, что у пользователей с детьми есть дополнительные расходы.\n",
    "* Процент выплаты кредита в срок у пользователей с 3мя детьми больше, чем у двух, что может быть обусловленно более ответственным подходом родителей к расходам.\n",
    "* Самый большой процент выпалты кредита в срок приходиться на пользоватейлей без детей. \n",
    "* Самый маленький процент приходиться на пользователей с 4мя детьми. Но такие пользователи составляют всего 0,19% от общего количтества. Требуется больше данных.\n",
    "* Пользователи с 5ю детьми всегда возвращают кредит в срок. Но такие пользователи составляют всего 0,04% от общего количтества. Требуется больше данных.\n",
    "\n",
    "Так же стоит обратить внимание, что число людей с 3+ детьми составляет менее 2% от общего количества пользователей. Поэтому для подтверждения выводов с ними требуется больше данных.\n"
   ]
  },
  {
   "cell_type": "markdown",
   "id": "986ed229",
   "metadata": {},
   "source": [
    "<div class=\"alert alert-success\">\n",
    "<h2> Комментарий ревьюера <a class=\"tocSkip\"> </h2>\n",
    "\n",
    "👍 По выводу все верно. Я бы только по категории заемщиков с пятью детьми вообще никаких выводов не делал, данных недостаточно. По четыремм и трем детям − да, можно запросить больше данных, если есть такая возможноть. Можно было бы предположить, что поведение должников с тремя и более детьми не отличается, но вполне возможно, что для многодетных есть скольно-нибудь работающие пособия, которые прибавляют этим клиентам финансовой стабильности.\n",
    "</div>"
   ]
  },
  {
   "cell_type": "markdown",
   "id": "83a0deba",
   "metadata": {
    "deletable": false,
    "editable": false,
    "id": "97be82ca"
   },
   "source": [
    "#### 3.2 Есть ли зависимость между семейным положением и возвратом кредита в срок?"
   ]
  },
  {
   "cell_type": "markdown",
   "id": "936a117f",
   "metadata": {},
   "source": [
    "Для ответа на этот вопрос необходимо выполнить следующие шаги:\n",
    "\n",
    "* Сгрупировать данные и найти общее количество в каждой группе\n",
    "* Узнать количество людей вернувших кредит в срок в каждой группе и их долю от общего количества\n",
    "* Для каждой группы рассчитать процент возврата кредит в срок, путем деления общего количества на вернувших кредит в срок"
   ]
  },
  {
   "cell_type": "code",
   "execution_count": 121,
   "id": "eae10efa",
   "metadata": {
    "scrolled": true
   },
   "outputs": [
    {
     "data": {
      "text/plain": [
       "family_status\n",
       "Не женат / не замужем     2796\n",
       "в разводе                 1189\n",
       "вдовец / вдова             951\n",
       "гражданский брак          4134\n",
       "женат / замужем          12261\n",
       "Name: debt, dtype: int64"
      ]
     },
     "execution_count": 121,
     "metadata": {},
     "output_type": "execute_result"
    }
   ],
   "source": [
    "#Группировка данных по столбцу family_status\n",
    "data.groupby('family_status')['debt'].count()"
   ]
  },
  {
   "cell_type": "code",
   "execution_count": 122,
   "id": "00b86056",
   "metadata": {},
   "outputs": [
    {
     "name": "stdout",
     "output_type": "stream",
     "text": [
      "Не женат / не замужем:\t13.11%\n",
      "в разводе:\t\t22.54%\n",
      "вдовец / вдова:\t\t4.46%\n",
      "гражданский брак:\t19.38%\n",
      "женат / замужем:\t57.48%\n"
     ]
    }
   ],
   "source": [
    "#Расчет доли каждой группы\n",
    "print(f'Не женат / не замужем:\\t{2796/summary:.2%}')\n",
    "print(f'в разводе:\\t\\t{4808/summary:.2%}')\n",
    "print(f'вдовец / вдова:\\t\\t{951/summary:.2%}')\n",
    "print(f'гражданский брак:\\t{4134/summary:.2%}')\n",
    "print(f'женат / замужем:\\t{12261/summary:.2%}')\n"
   ]
  },
  {
   "cell_type": "code",
   "execution_count": 123,
   "id": "e713ea2a",
   "metadata": {
    "deletable": false,
    "id": "dc3f7ee8",
    "scrolled": false
   },
   "outputs": [
    {
     "data": {
      "text/html": [
       "<div>\n",
       "<style scoped>\n",
       "    .dataframe tbody tr th:only-of-type {\n",
       "        vertical-align: middle;\n",
       "    }\n",
       "\n",
       "    .dataframe tbody tr th {\n",
       "        vertical-align: top;\n",
       "    }\n",
       "\n",
       "    .dataframe thead th {\n",
       "        text-align: right;\n",
       "    }\n",
       "</style>\n",
       "<table border=\"1\" class=\"dataframe\">\n",
       "  <thead>\n",
       "    <tr style=\"text-align: right;\">\n",
       "      <th>debt</th>\n",
       "      <th>0</th>\n",
       "      <th>1</th>\n",
       "    </tr>\n",
       "    <tr>\n",
       "      <th>family_status</th>\n",
       "      <th></th>\n",
       "      <th></th>\n",
       "    </tr>\n",
       "  </thead>\n",
       "  <tbody>\n",
       "    <tr>\n",
       "      <th>Не женат / не замужем</th>\n",
       "      <td>2523</td>\n",
       "      <td>273</td>\n",
       "    </tr>\n",
       "    <tr>\n",
       "      <th>в разводе</th>\n",
       "      <td>1105</td>\n",
       "      <td>84</td>\n",
       "    </tr>\n",
       "    <tr>\n",
       "      <th>вдовец / вдова</th>\n",
       "      <td>888</td>\n",
       "      <td>63</td>\n",
       "    </tr>\n",
       "    <tr>\n",
       "      <th>гражданский брак</th>\n",
       "      <td>3749</td>\n",
       "      <td>385</td>\n",
       "    </tr>\n",
       "    <tr>\n",
       "      <th>женат / замужем</th>\n",
       "      <td>11334</td>\n",
       "      <td>927</td>\n",
       "    </tr>\n",
       "  </tbody>\n",
       "</table>\n",
       "</div>"
      ],
      "text/plain": [
       "debt                       0    1\n",
       "family_status                    \n",
       "Не женат / не замужем   2523  273\n",
       "в разводе               1105   84\n",
       "вдовец / вдова           888   63\n",
       "гражданский брак        3749  385\n",
       "женат / замужем        11334  927"
      ]
     },
     "execution_count": 123,
     "metadata": {},
     "output_type": "execute_result"
    }
   ],
   "source": [
    "#Определение вернувших кредит в срок в каждой группе\n",
    "data.pivot_table(index='family_status', columns='debt', values='total_income',aggfunc='count')"
   ]
  },
  {
   "cell_type": "code",
   "execution_count": 124,
   "id": "56b3bcfe",
   "metadata": {},
   "outputs": [
    {
     "name": "stdout",
     "output_type": "stream",
     "text": [
      "При семейном положении: Не женат / не замужем\n",
      "Процент погашения кредита в срок равен: 90.2%\n",
      "\n",
      "При семейном положении: в разводе\n",
      "Процент погашения кредита в срок равен: 92.9%\n",
      "\n",
      "При семейном положении: вдовец / вдова\n",
      "Процент погашения кредита в срок равен: 93.4%\n",
      "\n",
      "При семейном положении: гражданский брак\n",
      "Процент погашения кредита в срок равен: 90.7%\n",
      "\n",
      "При семейном положении: женат / замужем\n",
      "Процент погашения кредита в срок равен: 92.4%\n",
      "\n"
     ]
    }
   ],
   "source": [
    "#определение процента вернувших кредит в срок в каждой группе\n",
    "for status in data['family_status'].sort_values().unique():\n",
    "    total = data[data['family_status'] == status]['family_status'].count() #Подсчет общего количества людей в группе\n",
    "    no_debt = data[(data['family_status'] == status) & (data['debt'] == 0)]['family_status'].count() #Подсчет количества людей вернувших кредит в срок\n",
    "    no_debt_value = no_debt / total #Рассчет процента вернувших кредит в срок от общего количества людей\n",
    "    print(f'При семейном положении: {status}\\nПроцент погашения кредита в срок равен: {no_debt_value:.1%}\\n')\n"
   ]
  },
  {
   "cell_type": "markdown",
   "id": "3f7d6fa8",
   "metadata": {},
   "source": [
    "<div class=\"alert alert-warning\">\n",
    "<h2> Комментарий ревьюера <a class=\"tocSkip\"> </h2>\n",
    "    \n",
    "<b>Некоторые замечания и рекомендации💡:</b> \n",
    "\n",
    "Здесь также рекомендую все данные вывести в одной таблице.\n",
    "       \n",
    "</div>\n",
    "\n"
   ]
  },
  {
   "cell_type": "markdown",
   "id": "db6ebdc7",
   "metadata": {},
   "source": [
    "<font color='blue'>Так же добавил сюда сводную таблицу</font>"
   ]
  },
  {
   "cell_type": "markdown",
   "id": "f58beb86",
   "metadata": {},
   "source": [
    "<div class=\"alert alert-success\">\n",
    "<h2> Комментарий ревьюера #2 <a class=\"tocSkip\"> </h2>\n",
    "\n",
    "👍 Отлично.\n",
    "</div>\n"
   ]
  },
  {
   "cell_type": "code",
   "execution_count": 39,
   "id": "34fb7fd3",
   "metadata": {},
   "outputs": [
    {
     "data": {
      "text/html": [
       "<div>\n",
       "<style scoped>\n",
       "    .dataframe tbody tr th:only-of-type {\n",
       "        vertical-align: middle;\n",
       "    }\n",
       "\n",
       "    .dataframe tbody tr th {\n",
       "        vertical-align: top;\n",
       "    }\n",
       "\n",
       "    .dataframe thead th {\n",
       "        text-align: right;\n",
       "    }\n",
       "</style>\n",
       "<table border=\"1\" class=\"dataframe\">\n",
       "  <thead>\n",
       "    <tr style=\"text-align: right;\">\n",
       "      <th></th>\n",
       "      <th>Кол-во заемщиков</th>\n",
       "      <th>Кол-во должников</th>\n",
       "      <th>Доля должников</th>\n",
       "    </tr>\n",
       "    <tr>\n",
       "      <th>family_status</th>\n",
       "      <th></th>\n",
       "      <th></th>\n",
       "      <th></th>\n",
       "    </tr>\n",
       "  </thead>\n",
       "  <tbody>\n",
       "    <tr>\n",
       "      <th>Не женат / не замужем</th>\n",
       "      <td>2796</td>\n",
       "      <td>273</td>\n",
       "      <td>9.76%</td>\n",
       "    </tr>\n",
       "    <tr>\n",
       "      <th>в разводе</th>\n",
       "      <td>1189</td>\n",
       "      <td>84</td>\n",
       "      <td>7.06%</td>\n",
       "    </tr>\n",
       "    <tr>\n",
       "      <th>вдовец / вдова</th>\n",
       "      <td>951</td>\n",
       "      <td>63</td>\n",
       "      <td>6.62%</td>\n",
       "    </tr>\n",
       "    <tr>\n",
       "      <th>гражданский брак</th>\n",
       "      <td>4134</td>\n",
       "      <td>385</td>\n",
       "      <td>9.31%</td>\n",
       "    </tr>\n",
       "    <tr>\n",
       "      <th>женат / замужем</th>\n",
       "      <td>12261</td>\n",
       "      <td>927</td>\n",
       "      <td>7.56%</td>\n",
       "    </tr>\n",
       "  </tbody>\n",
       "</table>\n",
       "</div>"
      ],
      "text/plain": [
       "                       Кол-во заемщиков  Кол-во должников Доля должников\n",
       "family_status                                                           \n",
       "Не женат / не замужем              2796               273          9.76%\n",
       "в разводе                          1189                84          7.06%\n",
       "вдовец / вдова                      951                63          6.62%\n",
       "гражданский брак                   4134               385          9.31%\n",
       "женат / замужем                   12261               927          7.56%"
      ]
     },
     "metadata": {},
     "output_type": "display_data"
    }
   ],
   "source": [
    "grouped_by_family_status = data.pivot_table('debt', index='family_status', aggfunc=['count', 'sum', 'mean'])\n",
    "grouped_by_family_status.columns = ['Кол-во заемщиков', 'Кол-во должников', 'Доля должников']\n",
    "grouped_by_family_status['Доля должников'] = grouped_by_family_status['Доля должников'].apply(percent)\n",
    "\n",
    "display(grouped_by_family_status)"
   ]
  },
  {
   "cell_type": "markdown",
   "id": "43cad200",
   "metadata": {
    "deletable": false,
    "id": "1cef7837"
   },
   "source": [
    "**Вывод:** "
   ]
  },
  {
   "cell_type": "markdown",
   "id": "7bfbdf3d",
   "metadata": {},
   "source": [
    "Ответ на поставленных вопрос: Да, влияет.\n",
    "\n",
    "Из полученных данных можно сделать следующие выводы:\n",
    "\n",
    "* Самый низкий процент возврата кредита в срок имеют не жанатые/не замужние клиенты.\n",
    "* Люди в гражданском браке имеют меньший процент выплаты кредита в срок, чем женатые/замужние. Это может быть связано с лучшими условиями кредита для вторых.\n",
    "* Самый большой процент возвращения кредита в срок имеют вдовы/вдовцы, но их доля составляет 4,5% от обего количества. Требуется больше данных.\n",
    "* Люди в разводе так же чаще возвращают кредит в срок по сравнению с женатыми/замужними."
   ]
  },
  {
   "cell_type": "markdown",
   "id": "6db6f252",
   "metadata": {},
   "source": [
    "<div class=\"alert alert-success\">\n",
    "<h2> Комментарий ревьюера <a class=\"tocSkip\"> </h2>\n",
    "\n",
    "👍 Все верно.\n",
    "</div>"
   ]
  },
  {
   "cell_type": "markdown",
   "id": "a2439ad8",
   "metadata": {
    "deletable": false,
    "editable": false,
    "id": "1e8b2fca"
   },
   "source": [
    "#### 3.3 Есть ли зависимость между уровнем дохода и возвратом кредита в срок?"
   ]
  },
  {
   "cell_type": "markdown",
   "id": "317c4e23",
   "metadata": {},
   "source": [
    "Для ответа на этот вопрос необходимо выполнить следующие шаги:\n",
    "\n",
    "* Сгрупировать данные и найти общее количество в каждой группе\n",
    "* Узнать количество людей вернувших кредит в срок в каждой группе и их долю от общего количества\n",
    "* Для каждой группы рассчитать процент возврата кредит в срок, путем деления общего количества на вернувших кредит в срок"
   ]
  },
  {
   "cell_type": "code",
   "execution_count": 125,
   "id": "a75738f9",
   "metadata": {
    "scrolled": true
   },
   "outputs": [
    {
     "data": {
      "text/plain": [
       "total_income_category\n",
       "A       25\n",
       "B     5014\n",
       "C    15921\n",
       "D      349\n",
       "E       22\n",
       "Name: total_income_category, dtype: int64"
      ]
     },
     "execution_count": 125,
     "metadata": {},
     "output_type": "execute_result"
    }
   ],
   "source": [
    "#группировка данных по столбцу total_income_category \n",
    "data.groupby('total_income_category')['total_income_category'].count()"
   ]
  },
  {
   "cell_type": "code",
   "execution_count": 126,
   "id": "4d02bd24",
   "metadata": {},
   "outputs": [
    {
     "name": "stdout",
     "output_type": "stream",
     "text": [
      "A: 0.12%\n",
      "B: 23.51%\n",
      "C: 74.64%\n",
      "D: 1.64%\n",
      "E: 0.10%\n"
     ]
    }
   ],
   "source": [
    "#расчет доли каждой группы\n",
    "print(f'A: {25/summary:.2%}')\n",
    "print(f'B: {5014/summary:.2%}')\n",
    "print(f'C: {15921/summary:.2%}')\n",
    "print(f'D: {349/summary:.2%}')\n",
    "print(f'E: {22/summary:.2%}')\n"
   ]
  },
  {
   "cell_type": "code",
   "execution_count": 127,
   "id": "09676497",
   "metadata": {
    "scrolled": true
   },
   "outputs": [
    {
     "data": {
      "text/html": [
       "<div>\n",
       "<style scoped>\n",
       "    .dataframe tbody tr th:only-of-type {\n",
       "        vertical-align: middle;\n",
       "    }\n",
       "\n",
       "    .dataframe tbody tr th {\n",
       "        vertical-align: top;\n",
       "    }\n",
       "\n",
       "    .dataframe thead th {\n",
       "        text-align: right;\n",
       "    }\n",
       "</style>\n",
       "<table border=\"1\" class=\"dataframe\">\n",
       "  <thead>\n",
       "    <tr style=\"text-align: right;\">\n",
       "      <th>debt</th>\n",
       "      <th>0</th>\n",
       "      <th>1</th>\n",
       "    </tr>\n",
       "    <tr>\n",
       "      <th>total_income_category</th>\n",
       "      <th></th>\n",
       "      <th></th>\n",
       "    </tr>\n",
       "  </thead>\n",
       "  <tbody>\n",
       "    <tr>\n",
       "      <th>A</th>\n",
       "      <td>23</td>\n",
       "      <td>2</td>\n",
       "    </tr>\n",
       "    <tr>\n",
       "      <th>B</th>\n",
       "      <td>4660</td>\n",
       "      <td>354</td>\n",
       "    </tr>\n",
       "    <tr>\n",
       "      <th>C</th>\n",
       "      <td>14568</td>\n",
       "      <td>1353</td>\n",
       "    </tr>\n",
       "    <tr>\n",
       "      <th>D</th>\n",
       "      <td>328</td>\n",
       "      <td>21</td>\n",
       "    </tr>\n",
       "    <tr>\n",
       "      <th>E</th>\n",
       "      <td>20</td>\n",
       "      <td>2</td>\n",
       "    </tr>\n",
       "  </tbody>\n",
       "</table>\n",
       "</div>"
      ],
      "text/plain": [
       "debt                       0     1\n",
       "total_income_category             \n",
       "A                         23     2\n",
       "B                       4660   354\n",
       "C                      14568  1353\n",
       "D                        328    21\n",
       "E                         20     2"
      ]
     },
     "execution_count": 127,
     "metadata": {},
     "output_type": "execute_result"
    }
   ],
   "source": [
    "#Определение количества вернувших еркдит в срок в каждой группе\n",
    "data.pivot_table(index='total_income_category', columns='debt', values='total_income',aggfunc='count')"
   ]
  },
  {
   "cell_type": "code",
   "execution_count": 128,
   "id": "3b0a51af",
   "metadata": {},
   "outputs": [
    {
     "name": "stdout",
     "output_type": "stream",
     "text": [
      "При уровне дохода: A\n",
      "Процент погашения кредита в срок равен: 92.0%\n",
      "\n",
      "При уровне дохода: B\n",
      "Процент погашения кредита в срок равен: 92.9%\n",
      "\n",
      "При уровне дохода: C\n",
      "Процент погашения кредита в срок равен: 91.5%\n",
      "\n",
      "При уровне дохода: D\n",
      "Процент погашения кредита в срок равен: 94.0%\n",
      "\n",
      "При уровне дохода: E\n",
      "Процент погашения кредита в срок равен: 90.9%\n",
      "\n"
     ]
    }
   ],
   "source": [
    "#Рассчет процент возврата кредита в срок в каждой группе\n",
    "for income in data['total_income_category'].sort_values().unique():\n",
    "    total = data[data['total_income_category'] == income]['family_status'].count() #Подсчет общего количества людей в группе\n",
    "    no_debt = data[(data['total_income_category'] == income) & (data['debt'] == 0)]['family_status'].count() #Подсчет количества людей вернувших кредит в срок\n",
    "    no_debt_value = no_debt / total #Рассчет процента вернувших кредит в срок от общего количества людей\n",
    "    print(f'При уровне дохода: {income}\\nПроцент погашения кредита в срок равен: {no_debt_value:.1%}\\n')"
   ]
  },
  {
   "cell_type": "code",
   "execution_count": 129,
   "id": "459fac31",
   "metadata": {
    "deletable": false,
    "id": "cd7e3720",
    "scrolled": true
   },
   "outputs": [
    {
     "data": {
      "text/html": [
       "<div>\n",
       "<style scoped>\n",
       "    .dataframe tbody tr th:only-of-type {\n",
       "        vertical-align: middle;\n",
       "    }\n",
       "\n",
       "    .dataframe tbody tr th {\n",
       "        vertical-align: top;\n",
       "    }\n",
       "\n",
       "    .dataframe thead th {\n",
       "        text-align: right;\n",
       "    }\n",
       "</style>\n",
       "<table border=\"1\" class=\"dataframe\">\n",
       "  <thead>\n",
       "    <tr style=\"text-align: right;\">\n",
       "      <th></th>\n",
       "      <th>children</th>\n",
       "      <th>days_employed</th>\n",
       "      <th>dob_years</th>\n",
       "      <th>education</th>\n",
       "      <th>education_id</th>\n",
       "      <th>family_status</th>\n",
       "      <th>family_status_id</th>\n",
       "      <th>gender</th>\n",
       "      <th>income_type</th>\n",
       "      <th>debt</th>\n",
       "      <th>total_income</th>\n",
       "      <th>purpose</th>\n",
       "      <th>total_income_category</th>\n",
       "      <th>purpose_category</th>\n",
       "    </tr>\n",
       "  </thead>\n",
       "  <tbody>\n",
       "    <tr>\n",
       "      <th>0</th>\n",
       "      <td>1</td>\n",
       "      <td>8437.673028</td>\n",
       "      <td>42</td>\n",
       "      <td>высшее</td>\n",
       "      <td>0</td>\n",
       "      <td>женат / замужем</td>\n",
       "      <td>0</td>\n",
       "      <td>F</td>\n",
       "      <td>сотрудник</td>\n",
       "      <td>0</td>\n",
       "      <td>253875</td>\n",
       "      <td>покупка жилья</td>\n",
       "      <td>B</td>\n",
       "      <td>операции с недвижимостью</td>\n",
       "    </tr>\n",
       "    <tr>\n",
       "      <th>1</th>\n",
       "      <td>1</td>\n",
       "      <td>4024.803754</td>\n",
       "      <td>36</td>\n",
       "      <td>среднее</td>\n",
       "      <td>1</td>\n",
       "      <td>женат / замужем</td>\n",
       "      <td>0</td>\n",
       "      <td>F</td>\n",
       "      <td>сотрудник</td>\n",
       "      <td>0</td>\n",
       "      <td>112080</td>\n",
       "      <td>приобретение автомобиля</td>\n",
       "      <td>C</td>\n",
       "      <td>операции с автомобилем</td>\n",
       "    </tr>\n",
       "    <tr>\n",
       "      <th>2</th>\n",
       "      <td>0</td>\n",
       "      <td>5623.422610</td>\n",
       "      <td>33</td>\n",
       "      <td>среднее</td>\n",
       "      <td>1</td>\n",
       "      <td>женат / замужем</td>\n",
       "      <td>0</td>\n",
       "      <td>M</td>\n",
       "      <td>сотрудник</td>\n",
       "      <td>0</td>\n",
       "      <td>145885</td>\n",
       "      <td>покупка жилья</td>\n",
       "      <td>C</td>\n",
       "      <td>операции с недвижимостью</td>\n",
       "    </tr>\n",
       "    <tr>\n",
       "      <th>3</th>\n",
       "      <td>3</td>\n",
       "      <td>4124.747207</td>\n",
       "      <td>32</td>\n",
       "      <td>среднее</td>\n",
       "      <td>1</td>\n",
       "      <td>женат / замужем</td>\n",
       "      <td>0</td>\n",
       "      <td>M</td>\n",
       "      <td>сотрудник</td>\n",
       "      <td>0</td>\n",
       "      <td>267628</td>\n",
       "      <td>дополнительное образование</td>\n",
       "      <td>B</td>\n",
       "      <td>получение образования</td>\n",
       "    </tr>\n",
       "    <tr>\n",
       "      <th>4</th>\n",
       "      <td>0</td>\n",
       "      <td>340266.072047</td>\n",
       "      <td>53</td>\n",
       "      <td>среднее</td>\n",
       "      <td>1</td>\n",
       "      <td>гражданский брак</td>\n",
       "      <td>1</td>\n",
       "      <td>F</td>\n",
       "      <td>пенсионер</td>\n",
       "      <td>0</td>\n",
       "      <td>158616</td>\n",
       "      <td>сыграть свадьбу</td>\n",
       "      <td>C</td>\n",
       "      <td>проведение свадьбы</td>\n",
       "    </tr>\n",
       "  </tbody>\n",
       "</table>\n",
       "</div>"
      ],
      "text/plain": [
       "   children  days_employed  dob_years education  education_id  \\\n",
       "0         1    8437.673028         42    высшее             0   \n",
       "1         1    4024.803754         36   среднее             1   \n",
       "2         0    5623.422610         33   среднее             1   \n",
       "3         3    4124.747207         32   среднее             1   \n",
       "4         0  340266.072047         53   среднее             1   \n",
       "\n",
       "      family_status  family_status_id gender income_type  debt  total_income  \\\n",
       "0   женат / замужем                 0      F   сотрудник     0        253875   \n",
       "1   женат / замужем                 0      F   сотрудник     0        112080   \n",
       "2   женат / замужем                 0      M   сотрудник     0        145885   \n",
       "3   женат / замужем                 0      M   сотрудник     0        267628   \n",
       "4  гражданский брак                 1      F   пенсионер     0        158616   \n",
       "\n",
       "                      purpose total_income_category          purpose_category  \n",
       "0               покупка жилья                     B  операции с недвижимостью  \n",
       "1     приобретение автомобиля                     C    операции с автомобилем  \n",
       "2               покупка жилья                     C  операции с недвижимостью  \n",
       "3  дополнительное образование                     B     получение образования  \n",
       "4             сыграть свадьбу                     C        проведение свадьбы  "
      ]
     },
     "execution_count": 129,
     "metadata": {},
     "output_type": "execute_result"
    }
   ],
   "source": [
    "# Ваш код будет здесь. Вы можете создавать новые ячейки.\n",
    "data.head()"
   ]
  },
  {
   "cell_type": "markdown",
   "id": "d5c81c25",
   "metadata": {},
   "source": [
    "<font color='blue'>Так же добавил сюда сводную таблицу</font>"
   ]
  },
  {
   "cell_type": "code",
   "execution_count": 40,
   "id": "1b431020",
   "metadata": {},
   "outputs": [
    {
     "data": {
      "text/html": [
       "<div>\n",
       "<style scoped>\n",
       "    .dataframe tbody tr th:only-of-type {\n",
       "        vertical-align: middle;\n",
       "    }\n",
       "\n",
       "    .dataframe tbody tr th {\n",
       "        vertical-align: top;\n",
       "    }\n",
       "\n",
       "    .dataframe thead th {\n",
       "        text-align: right;\n",
       "    }\n",
       "</style>\n",
       "<table border=\"1\" class=\"dataframe\">\n",
       "  <thead>\n",
       "    <tr style=\"text-align: right;\">\n",
       "      <th></th>\n",
       "      <th>Кол-во заемщиков</th>\n",
       "      <th>Кол-во должников</th>\n",
       "      <th>Доля должников</th>\n",
       "    </tr>\n",
       "    <tr>\n",
       "      <th>total_income_category</th>\n",
       "      <th></th>\n",
       "      <th></th>\n",
       "      <th></th>\n",
       "    </tr>\n",
       "  </thead>\n",
       "  <tbody>\n",
       "    <tr>\n",
       "      <th>A</th>\n",
       "      <td>25</td>\n",
       "      <td>2</td>\n",
       "      <td>8.00%</td>\n",
       "    </tr>\n",
       "    <tr>\n",
       "      <th>B</th>\n",
       "      <td>5014</td>\n",
       "      <td>354</td>\n",
       "      <td>7.06%</td>\n",
       "    </tr>\n",
       "    <tr>\n",
       "      <th>C</th>\n",
       "      <td>15921</td>\n",
       "      <td>1353</td>\n",
       "      <td>8.50%</td>\n",
       "    </tr>\n",
       "    <tr>\n",
       "      <th>D</th>\n",
       "      <td>349</td>\n",
       "      <td>21</td>\n",
       "      <td>6.02%</td>\n",
       "    </tr>\n",
       "    <tr>\n",
       "      <th>E</th>\n",
       "      <td>22</td>\n",
       "      <td>2</td>\n",
       "      <td>9.09%</td>\n",
       "    </tr>\n",
       "  </tbody>\n",
       "</table>\n",
       "</div>"
      ],
      "text/plain": [
       "                       Кол-во заемщиков  Кол-во должников Доля должников\n",
       "total_income_category                                                   \n",
       "A                                    25                 2          8.00%\n",
       "B                                  5014               354          7.06%\n",
       "C                                 15921              1353          8.50%\n",
       "D                                   349                21          6.02%\n",
       "E                                    22                 2          9.09%"
      ]
     },
     "metadata": {},
     "output_type": "display_data"
    }
   ],
   "source": [
    "grouped_by_total_income_category = data.pivot_table('debt', index='total_income_category', aggfunc=['count', 'sum', 'mean'])\n",
    "grouped_by_total_income_category.columns = ['Кол-во заемщиков', 'Кол-во должников', 'Доля должников']\n",
    "grouped_by_total_income_category['Доля должников'] = grouped_by_total_income_category['Доля должников'].apply(percent)\n",
    "\n",
    "display(grouped_by_total_income_category)"
   ]
  },
  {
   "cell_type": "markdown",
   "id": "392276d7",
   "metadata": {
    "deletable": false,
    "id": "e8593def"
   },
   "source": [
    "**Вывод:** "
   ]
  },
  {
   "cell_type": "markdown",
   "id": "b1ae7cc3",
   "metadata": {},
   "source": [
    "Ответ на поставленный вопрос: Да, влияет.\n",
    "\n",
    "На основе таблиц можно сделать следующие выводы:\n",
    "\n",
    "* Суммарное процентное соотношение групп с уровнем дохода B и С составляет 98.15%. требуется больше данных по остальным группам.\n",
    "* Люди с уровнем дохода В чаще возвращают кредит в срок, по сравнению с людьми с уровнем дохода С. Это может быть обусловленно максимальной суммой кредита. (у категории В она меньше)\n",
    "* <font color='blue'>Категория Е имеет самый высокий процент задолжности, но данных с этой категории достаточно мало, требуется больше информации</font>"
   ]
  },
  {
   "cell_type": "markdown",
   "id": "3367f423",
   "metadata": {},
   "source": [
    "<div class=\"alert alert-warning\">\n",
    "<h2> Комментарий ревьюера <a class=\"tocSkip\"> </h2>\n",
    "    \n",
    "<b>Некоторые замечания и рекомендации💡:</b> \n",
    "\n",
    "А что можно сказать по категории «Е»?\n",
    "       \n",
    "</div>"
   ]
  },
  {
   "cell_type": "markdown",
   "id": "77aff790",
   "metadata": {},
   "source": [
    "<div class=\"alert alert-success\">\n",
    "<h2> Комментарий ревьюера #2 <a class=\"tocSkip\"> </h2>\n",
    "\n",
    "👍 Да, все так.\n",
    "</div>\n"
   ]
  },
  {
   "cell_type": "markdown",
   "id": "2ea89041",
   "metadata": {
    "deletable": false,
    "editable": false,
    "id": "99ecbd1f"
   },
   "source": [
    "#### 3.4 Как разные цели кредита влияют на его возврат в срок?"
   ]
  },
  {
   "cell_type": "markdown",
   "id": "5db5771c",
   "metadata": {},
   "source": [
    "Для ответа на этот вопрос необходимо выполнить следующие шаги:\n",
    "\n",
    "* Сгрупировать данные и найти общее количество в каждой группе\n",
    "* Узнать количество людей вернувших кредит в срок в каждой группе и их долю от общего количества\n",
    "* Для каждой группы рассчитать процент возврата кредит в срок, путем деления общего количества на вернувших кредит в срок"
   ]
  },
  {
   "cell_type": "code",
   "execution_count": 130,
   "id": "cf4247d3",
   "metadata": {
    "scrolled": false
   },
   "outputs": [
    {
     "data": {
      "text/plain": [
       "purpose_category\n",
       "операции с автомобилем       4279\n",
       "операции с недвижимостью    10751\n",
       "получение образования        3988\n",
       "проведение свадьбы           2313\n",
       "Name: purpose_category, dtype: int64"
      ]
     },
     "execution_count": 130,
     "metadata": {},
     "output_type": "execute_result"
    }
   ],
   "source": [
    "#Группировка по стобцу purpose_category\n",
    "data.groupby('purpose_category')['purpose_category'].count()"
   ]
  },
  {
   "cell_type": "code",
   "execution_count": 131,
   "id": "5d138f70",
   "metadata": {},
   "outputs": [
    {
     "name": "stdout",
     "output_type": "stream",
     "text": [
      "операции с автомобилем: 20.06%\n",
      "операции с недвижимостью: 50.40%\n",
      "получение образования: 18.70%\n",
      "проведение свадьбы: 10.84%\n"
     ]
    }
   ],
   "source": [
    "#Определение доли каждой категории\n",
    "print(f'операции с автомобилем: {4279/summary:.2%}')\n",
    "print(f'операции с недвижимостью: {10751/summary:.2%}')\n",
    "print(f'получение образования: {3988/summary:.2%}')\n",
    "print(f'проведение свадьбы: {2313/summary:.2%}')\n"
   ]
  },
  {
   "cell_type": "code",
   "execution_count": 132,
   "id": "304fe195",
   "metadata": {
    "scrolled": false
   },
   "outputs": [
    {
     "data": {
      "text/html": [
       "<div>\n",
       "<style scoped>\n",
       "    .dataframe tbody tr th:only-of-type {\n",
       "        vertical-align: middle;\n",
       "    }\n",
       "\n",
       "    .dataframe tbody tr th {\n",
       "        vertical-align: top;\n",
       "    }\n",
       "\n",
       "    .dataframe thead th {\n",
       "        text-align: right;\n",
       "    }\n",
       "</style>\n",
       "<table border=\"1\" class=\"dataframe\">\n",
       "  <thead>\n",
       "    <tr style=\"text-align: right;\">\n",
       "      <th>debt</th>\n",
       "      <th>0</th>\n",
       "      <th>1</th>\n",
       "    </tr>\n",
       "    <tr>\n",
       "      <th>purpose_category</th>\n",
       "      <th></th>\n",
       "      <th></th>\n",
       "    </tr>\n",
       "  </thead>\n",
       "  <tbody>\n",
       "    <tr>\n",
       "      <th>операции с автомобилем</th>\n",
       "      <td>3879</td>\n",
       "      <td>400</td>\n",
       "    </tr>\n",
       "    <tr>\n",
       "      <th>операции с недвижимостью</th>\n",
       "      <td>9971</td>\n",
       "      <td>780</td>\n",
       "    </tr>\n",
       "    <tr>\n",
       "      <th>получение образования</th>\n",
       "      <td>3619</td>\n",
       "      <td>369</td>\n",
       "    </tr>\n",
       "    <tr>\n",
       "      <th>проведение свадьбы</th>\n",
       "      <td>2130</td>\n",
       "      <td>183</td>\n",
       "    </tr>\n",
       "  </tbody>\n",
       "</table>\n",
       "</div>"
      ],
      "text/plain": [
       "debt                         0    1\n",
       "purpose_category                   \n",
       "операции с автомобилем    3879  400\n",
       "операции с недвижимостью  9971  780\n",
       "получение образования     3619  369\n",
       "проведение свадьбы        2130  183"
      ]
     },
     "execution_count": 132,
     "metadata": {},
     "output_type": "execute_result"
    }
   ],
   "source": [
    "#Определение количества вернувших кредит в срок в каждой категории\n",
    "data.pivot_table(index='purpose_category', columns='debt', values='total_income',aggfunc='count')"
   ]
  },
  {
   "cell_type": "code",
   "execution_count": 133,
   "id": "aed12c98",
   "metadata": {
    "deletable": false,
    "id": "2b687290",
    "scrolled": true
   },
   "outputs": [
    {
     "name": "stdout",
     "output_type": "stream",
     "text": [
      "При цели кредита: операции с автомобилем\n",
      "Процент погашения кредита в срок равен: 90.65%\n",
      "\n",
      "При цели кредита: операции с недвижимостью\n",
      "Процент погашения кредита в срок равен: 92.74%\n",
      "\n",
      "При цели кредита: получение образования\n",
      "Процент погашения кредита в срок равен: 90.75%\n",
      "\n",
      "При цели кредита: проведение свадьбы\n",
      "Процент погашения кредита в срок равен: 92.09%\n",
      "\n"
     ]
    }
   ],
   "source": [
    "#Рассчет процент возврата кредита в срок в каждой группе\n",
    "for income in data['purpose_category'].sort_values().unique():\n",
    "    total = data[data['purpose_category'] == income]['family_status'].count() #Подсчет общего количества людей в группе\n",
    "    no_debt = data[(data['purpose_category'] == income) & (data['debt'] == 0)]['family_status'].count() #Подсчет количества людей вернувших кредит в срок\n",
    "    no_debt_value = no_debt / total #Рассчет процента вернувших кредит в срок от общего количества людей\n",
    "    print(f'При цели кредита: {income}\\nПроцент погашения кредита в срок равен: {no_debt_value:.2%}\\n')"
   ]
  },
  {
   "cell_type": "markdown",
   "id": "38c0f0c8",
   "metadata": {},
   "source": [
    "<font color='blue'>Так же добавил сюда сводную таблицу</font>"
   ]
  },
  {
   "cell_type": "code",
   "execution_count": 42,
   "id": "c8e9aaa6",
   "metadata": {},
   "outputs": [
    {
     "data": {
      "text/html": [
       "<div>\n",
       "<style scoped>\n",
       "    .dataframe tbody tr th:only-of-type {\n",
       "        vertical-align: middle;\n",
       "    }\n",
       "\n",
       "    .dataframe tbody tr th {\n",
       "        vertical-align: top;\n",
       "    }\n",
       "\n",
       "    .dataframe thead th {\n",
       "        text-align: right;\n",
       "    }\n",
       "</style>\n",
       "<table border=\"1\" class=\"dataframe\">\n",
       "  <thead>\n",
       "    <tr style=\"text-align: right;\">\n",
       "      <th></th>\n",
       "      <th>Кол-во заемщиков</th>\n",
       "      <th>Кол-во должников</th>\n",
       "      <th>Доля должников</th>\n",
       "    </tr>\n",
       "    <tr>\n",
       "      <th>purpose_category</th>\n",
       "      <th></th>\n",
       "      <th></th>\n",
       "      <th></th>\n",
       "    </tr>\n",
       "  </thead>\n",
       "  <tbody>\n",
       "    <tr>\n",
       "      <th>операции с автомобилем</th>\n",
       "      <td>4279</td>\n",
       "      <td>400</td>\n",
       "      <td>9.35%</td>\n",
       "    </tr>\n",
       "    <tr>\n",
       "      <th>операции с недвижимостью</th>\n",
       "      <td>10751</td>\n",
       "      <td>780</td>\n",
       "      <td>7.26%</td>\n",
       "    </tr>\n",
       "    <tr>\n",
       "      <th>получение образования</th>\n",
       "      <td>3988</td>\n",
       "      <td>369</td>\n",
       "      <td>9.25%</td>\n",
       "    </tr>\n",
       "    <tr>\n",
       "      <th>проведение свадьбы</th>\n",
       "      <td>2313</td>\n",
       "      <td>183</td>\n",
       "      <td>7.91%</td>\n",
       "    </tr>\n",
       "  </tbody>\n",
       "</table>\n",
       "</div>"
      ],
      "text/plain": [
       "                          Кол-во заемщиков  Кол-во должников Доля должников\n",
       "purpose_category                                                           \n",
       "операции с автомобилем                4279               400          9.35%\n",
       "операции с недвижимостью             10751               780          7.26%\n",
       "получение образования                 3988               369          9.25%\n",
       "проведение свадьбы                    2313               183          7.91%"
      ]
     },
     "metadata": {},
     "output_type": "display_data"
    }
   ],
   "source": [
    "grouped_by_purpose_category = data.pivot_table('debt', index='purpose_category', aggfunc=['count', 'sum', 'mean'])\n",
    "grouped_by_purpose_category.columns = ['Кол-во заемщиков', 'Кол-во должников', 'Доля должников']\n",
    "grouped_by_purpose_category['Доля должников'] = grouped_by_purpose_category['Доля должников'].apply(percent)\n",
    "\n",
    "display(grouped_by_purpose_category)"
   ]
  },
  {
   "cell_type": "markdown",
   "id": "02a16ef8",
   "metadata": {
    "deletable": false,
    "id": "b4bb2ce6"
   },
   "source": [
    "**Вывод:** "
   ]
  },
  {
   "cell_type": "markdown",
   "id": "226accf1",
   "metadata": {},
   "source": [
    "Ответ на поставленный вопрос: Да, влияет\n",
    "\n",
    "Из полученных таблиц можно сделать следующие выводы:\n",
    "\n",
    "* Лучший показатель возврата кредита в срок у клиентов с целью покупки недвижимости\n",
    "* Худжий показатель у клиентов с целью операций с автомобилем"
   ]
  },
  {
   "cell_type": "markdown",
   "id": "6b83b7ed",
   "metadata": {},
   "source": [
    "<div class=\"alert alert-warning\">\n",
    "<h2> Комментарий ревьюера <a class=\"tocSkip\"> </h2>\n",
    "    \n",
    "<b>Некоторые замечания и рекомендации💡:</b> \n",
    "\n",
    "Здесь можно было бы перечислить все цели, они хорошо делятся на две группы: более рискованные и менее рискованные.\n",
    "       \n",
    "</div>"
   ]
  },
  {
   "cell_type": "markdown",
   "id": "87d2a8d3",
   "metadata": {},
   "source": [
    "<div class=\"alert alert-warning\">\n",
    "<h2> Комментарий ревьюера  #2 <a class=\"tocSkip\"> </h2>\n",
    "    \n",
    "<b>Некоторые замечания и рекомендации💡:</b> \n",
    "\n",
    "Автокредиты и образование имеют высокий процент просрочек.\n",
    "       \n",
    "</div>\n"
   ]
  },
  {
   "cell_type": "markdown",
   "id": "b329bd62",
   "metadata": {
    "deletable": false,
    "editable": false,
    "id": "09c3ac4c"
   },
   "source": [
    "#### 3.5 Приведите возможные причины появления пропусков в исходных данных."
   ]
  },
  {
   "cell_type": "markdown",
   "id": "28b61449",
   "metadata": {
    "deletable": false,
    "id": "9da2ceda"
   },
   "source": [
    "*Ответ:* "
   ]
  },
  {
   "cell_type": "markdown",
   "id": "4e3f3574",
   "metadata": {},
   "source": [
    "Пропуски находятся только в столбцах total_income и days_employed.\n",
    "Оба эти столбца являются количественными переменными. Так же пропуски встречаются у абсолютно рахных людей по роду деятельности, образованию, возрасту и цели. Следовательно можно сделать предположение, что данные пропуски образовались в результате системного сбоя или ошибки.\n"
   ]
  },
  {
   "cell_type": "markdown",
   "id": "1e9d4857",
   "metadata": {},
   "source": [
    "<div class=\"alert alert-success\">\n",
    "<h2> Комментарий ревьюера <a class=\"tocSkip\"> </h2>\n",
    "\n",
    "👍 Отлично, что заметили совпадение по столбцам. Я бы предположил, что и клиенты могут отказываться давать о себе эту информацию. Например, пенсионеры и студенты могут не указать стаж или доход.\n",
    "</div>\n"
   ]
  },
  {
   "cell_type": "markdown",
   "id": "2768b85a",
   "metadata": {
    "deletable": false,
    "editable": false,
    "id": "7b0487d6"
   },
   "source": [
    "#### 3.6 Объясните, почему заполнить пропуски медианным значением — лучшее решение для количественных переменных."
   ]
  },
  {
   "cell_type": "markdown",
   "id": "f4912f2c",
   "metadata": {
    "deletable": false,
    "id": "7ecf2b8e"
   },
   "source": [
    "*Ответ:* "
   ]
  },
  {
   "attachments": {
    "image.png": {
     "image/png": "[encoded data removed]"
    }
   },
   "cell_type": "markdown",
   "id": "2316a0c9",
   "metadata": {},
   "source": [
    "При заполнении пропусков средним для количественных переменных является неестественным и приводит к искажению всех показателей, характеризующих совйства распределения, заниженной кореляции и завышенной оценке стандартных отклонений. \n",
    "\n",
    "<font color='blue'>При нелинейной зависимости, даже небольшое количество выбросов, \"перетягивает\" среднее значение в большую или меньшую сторону.\n",
    "В данном случае медиана даст более правдивую картинку в связи с тем, что менее чувствительна к \"пиковым\" значениям.\n",
    "![image.png](attachment:image.png)"
   ]
  },
  {
   "cell_type": "markdown",
   "id": "575bc923",
   "metadata": {},
   "source": [
    "<div class=\"alert alert-block alert-danger\">\n",
    "    <h2><s> Комментарий ревьюера </s><a class=\"tocSkip\"></h2>\n",
    "  \n",
    "<b>На доработку🤔:</b>\n",
    " \n",
    "Все-таки попрошу переформулировать ответ, а я постараюсь переформулировать вопрос.\n",
    "    \n",
    "К каким значениям среднее чувствительно, и почему могут возникать ситуации, когда среднее и медиана расходятся? Если они разошлись, почему медиана оказывается ближе к ожидаемому значению пропущенной переменной?\n",
    "\n",
    "</div>\n"
   ]
  },
  {
   "cell_type": "markdown",
   "id": "b0724347",
   "metadata": {},
   "source": [
    "<div class=\"alert alert-success\">\n",
    "<h2> Комментарий ревьюера #2 <a class=\"tocSkip\"> </h2>\n",
    "\n",
    "👍 Супер. Действительно, медиана устойчива к выбросам, среднее − нет.\n",
    "</div>"
   ]
  },
  {
   "cell_type": "markdown",
   "id": "6c6338cb",
   "metadata": {
    "deletable": false,
    "editable": false,
    "id": "6db5255a"
   },
   "source": [
    "### Шаг 4: общий вывод."
   ]
  },
  {
   "cell_type": "markdown",
   "id": "4ab91189",
   "metadata": {
    "deletable": false,
    "id": "bad65432"
   },
   "source": [
    "Основываясь на полученных данных можно составить портрет лучшего и худшего клиента для банка:\n",
    "\n",
    "Параметры лучшего:\n",
    "* Семейное положение: женат/замужем\n",
    "* Количество детей: 0\n",
    "* Уровень дохода: B\n",
    "* Цель кредита: операции с недвижимостью\n",
    "\n",
    "Параметры худшего:\n",
    "* Семейное положение: не замужем/не женат\n",
    "* Количество детей: 2\n",
    "* Уровень дохода: С\n",
    "* Цель кредита: операции с автомобилем"
   ]
  },
  {
   "cell_type": "markdown",
   "id": "3e9283b8",
   "metadata": {},
   "source": [
    "<div class=\"alert alert-warning\">\n",
    "<h2> Комментарий ревьюера <a class=\"tocSkip\"> </h2>\n",
    "    \n",
    "<b>Некоторые замечания и рекомендации💡:</b> \n",
    "\n",
    "Хороший вывод по структуре и содержанию. Я бы добавил сюда еще категорий, кроме «лучший-худший», особенно, если второе место не сильно отличается от первого. Также рекомендую сделать фокус на рисках для заказчика.\n",
    "       \n",
    "</div>\n"
   ]
  },
  {
   "cell_type": "markdown",
   "id": "5acae43d",
   "metadata": {},
   "source": [
    "<div style=\"border:solid Chocolate 2px; padding: 40px\">\n",
    "\n",
    "**Общий вывод по проверке**\n",
    "\n",
    "У тебя получился хороший проект с неплохой аналитикой и решениями по коду. Красный комментарий касается ответа на вопрос о пропусках и медиане.\n",
    "\n",
    "Желтыми комментариями также отметил пожелание вывести все результаты в одной таблице (написал, как), а также сфокусировать внимание на доли задолженности, а не на проценте отданных в срок кредитов. \n",
    "\n",
    "\n",
    "**Желаю удачи и жду твой проект на повторное ревью!**😉\n",
    "\n",
    "</div>"
   ]
  },
  {
   "cell_type": "markdown",
   "id": "1430c7fc",
   "metadata": {},
   "source": [
    "<div style=\"border:solid Chocolate 2px; padding: 40px\">\n",
    "\n",
    "**Комментарий ко второй проверке**\n",
    "\n",
    "Спасибо за доработку. Критичных комментариев нет. \n",
    "\n",
    "Желаю удачи в дальнейшей учебе!\n",
    "\n",
    "</div>"
   ]
  }
 ],
 "metadata": {
  "ExecuteTimeLog": [
   {
    "duration": 42,
    "start_time": "2022-09-14T11:49:07.135Z"
   },
   {
    "duration": 499,
    "start_time": "2022-09-14T11:49:19.104Z"
   },
   {
    "duration": 18,
    "start_time": "2022-09-14T11:49:19.605Z"
   },
   {
    "duration": 13,
    "start_time": "2022-09-14T11:49:19.624Z"
   },
   {
    "duration": 8,
    "start_time": "2022-09-14T11:49:19.638Z"
   },
   {
    "duration": 45,
    "start_time": "2022-09-14T11:49:19.647Z"
   },
   {
    "duration": 2,
    "start_time": "2022-09-14T11:49:19.694Z"
   },
   {
    "duration": 10,
    "start_time": "2022-09-14T11:49:19.697Z"
   },
   {
    "duration": 3,
    "start_time": "2022-09-14T11:49:19.709Z"
   },
   {
    "duration": 8,
    "start_time": "2022-09-14T11:49:19.713Z"
   },
   {
    "duration": 4,
    "start_time": "2022-09-14T11:49:19.723Z"
   },
   {
    "duration": 30,
    "start_time": "2022-09-14T11:49:19.728Z"
   },
   {
    "duration": 8,
    "start_time": "2022-09-14T11:49:19.777Z"
   },
   {
    "duration": 5,
    "start_time": "2022-09-14T11:49:19.787Z"
   },
   {
    "duration": 13,
    "start_time": "2022-09-14T11:49:19.793Z"
   },
   {
    "duration": 17,
    "start_time": "2022-09-14T11:49:19.807Z"
   },
   {
    "duration": 15,
    "start_time": "2022-09-14T11:49:19.826Z"
   },
   {
    "duration": 4,
    "start_time": "2022-09-14T11:49:19.842Z"
   },
   {
    "duration": 36,
    "start_time": "2022-09-14T11:49:19.847Z"
   },
   {
    "duration": 6,
    "start_time": "2022-09-14T11:49:19.884Z"
   },
   {
    "duration": 4,
    "start_time": "2022-09-14T11:49:19.891Z"
   },
   {
    "duration": 9,
    "start_time": "2022-09-14T11:49:19.896Z"
   },
   {
    "duration": 18,
    "start_time": "2022-09-14T11:49:26.137Z"
   },
   {
    "duration": 6,
    "start_time": "2022-09-14T11:50:16.379Z"
   },
   {
    "duration": 7,
    "start_time": "2022-09-14T11:52:36.796Z"
   },
   {
    "duration": 6,
    "start_time": "2022-09-14T11:52:50.207Z"
   },
   {
    "duration": 6,
    "start_time": "2022-09-14T11:53:15.026Z"
   },
   {
    "duration": 6,
    "start_time": "2022-09-14T11:54:11.121Z"
   },
   {
    "duration": 4,
    "start_time": "2022-09-14T11:57:28.799Z"
   },
   {
    "duration": 3,
    "start_time": "2022-09-14T11:57:43.177Z"
   },
   {
    "duration": 3,
    "start_time": "2022-09-14T12:02:09.099Z"
   },
   {
    "duration": 4,
    "start_time": "2022-09-14T12:02:25.817Z"
   },
   {
    "duration": 3,
    "start_time": "2022-09-14T12:02:38.015Z"
   },
   {
    "duration": 3,
    "start_time": "2022-09-14T12:03:04.199Z"
   },
   {
    "duration": 3,
    "start_time": "2022-09-14T12:03:15.121Z"
   },
   {
    "duration": 12,
    "start_time": "2022-09-14T12:08:20.478Z"
   },
   {
    "duration": 6,
    "start_time": "2022-09-14T12:08:49.977Z"
   },
   {
    "duration": 8,
    "start_time": "2022-09-14T12:12:14.846Z"
   },
   {
    "duration": 8,
    "start_time": "2022-09-14T12:12:32.554Z"
   },
   {
    "duration": 3,
    "start_time": "2022-09-14T12:12:49.378Z"
   },
   {
    "duration": 9,
    "start_time": "2022-09-14T12:12:53.915Z"
   },
   {
    "duration": 4,
    "start_time": "2022-09-14T12:13:20.853Z"
   },
   {
    "duration": 3,
    "start_time": "2022-09-14T12:13:36.816Z"
   },
   {
    "duration": 3,
    "start_time": "2022-09-14T12:13:53.400Z"
   },
   {
    "duration": 4,
    "start_time": "2022-09-14T12:14:05.701Z"
   },
   {
    "duration": 4,
    "start_time": "2022-09-14T12:14:30.603Z"
   },
   {
    "duration": 3,
    "start_time": "2022-09-14T12:14:56.507Z"
   },
   {
    "duration": 4,
    "start_time": "2022-09-14T12:15:08.631Z"
   },
   {
    "duration": 11,
    "start_time": "2022-09-14T12:20:02.281Z"
   },
   {
    "duration": 7,
    "start_time": "2022-09-14T12:20:15.667Z"
   },
   {
    "duration": 3154,
    "start_time": "2022-09-14T12:20:58.017Z"
   },
   {
    "duration": 9,
    "start_time": "2022-09-14T12:21:08.292Z"
   },
   {
    "duration": 7,
    "start_time": "2022-09-14T12:21:32.088Z"
   },
   {
    "duration": 4,
    "start_time": "2022-09-14T12:22:50.791Z"
   },
   {
    "duration": 6,
    "start_time": "2022-09-14T12:22:57.595Z"
   },
   {
    "duration": 6,
    "start_time": "2022-09-14T12:26:13.533Z"
   },
   {
    "duration": 13,
    "start_time": "2022-09-14T12:26:26.044Z"
   },
   {
    "duration": 22,
    "start_time": "2022-09-14T12:28:55.132Z"
   },
   {
    "duration": 19,
    "start_time": "2022-09-14T12:29:19.683Z"
   },
   {
    "duration": 18,
    "start_time": "2022-09-14T12:30:44.199Z"
   },
   {
    "duration": 45,
    "start_time": "2022-09-14T18:49:02.053Z"
   },
   {
    "duration": 641,
    "start_time": "2022-09-14T18:49:14.006Z"
   },
   {
    "duration": 21,
    "start_time": "2022-09-14T18:49:14.649Z"
   },
   {
    "duration": 15,
    "start_time": "2022-09-14T18:49:14.671Z"
   },
   {
    "duration": 9,
    "start_time": "2022-09-14T18:49:14.688Z"
   },
   {
    "duration": 48,
    "start_time": "2022-09-14T18:49:14.698Z"
   },
   {
    "duration": 3,
    "start_time": "2022-09-14T18:49:14.748Z"
   },
   {
    "duration": 9,
    "start_time": "2022-09-14T18:49:14.753Z"
   },
   {
    "duration": 5,
    "start_time": "2022-09-14T18:49:14.763Z"
   },
   {
    "duration": 8,
    "start_time": "2022-09-14T18:49:14.769Z"
   },
   {
    "duration": 4,
    "start_time": "2022-09-14T18:49:14.779Z"
   },
   {
    "duration": 31,
    "start_time": "2022-09-14T18:49:14.784Z"
   },
   {
    "duration": 9,
    "start_time": "2022-09-14T18:49:14.846Z"
   },
   {
    "duration": 4,
    "start_time": "2022-09-14T18:49:14.856Z"
   },
   {
    "duration": 12,
    "start_time": "2022-09-14T18:49:14.861Z"
   },
   {
    "duration": 18,
    "start_time": "2022-09-14T18:49:14.874Z"
   },
   {
    "duration": 14,
    "start_time": "2022-09-14T18:49:14.893Z"
   },
   {
    "duration": 3,
    "start_time": "2022-09-14T18:49:14.909Z"
   },
   {
    "duration": 40,
    "start_time": "2022-09-14T18:49:14.914Z"
   },
   {
    "duration": 6,
    "start_time": "2022-09-14T18:49:14.955Z"
   },
   {
    "duration": 4,
    "start_time": "2022-09-14T18:49:14.962Z"
   },
   {
    "duration": 12,
    "start_time": "2022-09-14T18:49:14.967Z"
   },
   {
    "duration": 6,
    "start_time": "2022-09-14T18:49:20.633Z"
   },
   {
    "duration": 24,
    "start_time": "2022-09-14T18:51:20.159Z"
   },
   {
    "duration": 8,
    "start_time": "2022-09-14T18:52:26.935Z"
   },
   {
    "duration": 50,
    "start_time": "2022-09-14T18:59:06.889Z"
   },
   {
    "duration": 20,
    "start_time": "2022-09-14T18:59:19.732Z"
   },
   {
    "duration": 20,
    "start_time": "2022-09-14T18:59:39.099Z"
   },
   {
    "duration": 8,
    "start_time": "2022-09-14T19:05:09.752Z"
   },
   {
    "duration": 18,
    "start_time": "2022-09-14T19:06:43.706Z"
   },
   {
    "duration": 29,
    "start_time": "2022-09-14T19:07:12.854Z"
   },
   {
    "duration": 10,
    "start_time": "2022-09-14T19:07:40.822Z"
   },
   {
    "duration": 9,
    "start_time": "2022-09-14T19:07:59.602Z"
   },
   {
    "duration": 12,
    "start_time": "2022-09-14T19:08:17.359Z"
   },
   {
    "duration": 21,
    "start_time": "2022-09-14T19:09:10.600Z"
   },
   {
    "duration": 6,
    "start_time": "2022-09-14T19:12:39.481Z"
   },
   {
    "duration": 28,
    "start_time": "2022-09-14T19:13:01.724Z"
   },
   {
    "duration": 21,
    "start_time": "2022-09-14T19:13:29.997Z"
   },
   {
    "duration": 27,
    "start_time": "2022-09-14T19:13:50.697Z"
   },
   {
    "duration": 42,
    "start_time": "2022-09-14T19:14:40.202Z"
   },
   {
    "duration": 39,
    "start_time": "2022-09-14T19:15:10.147Z"
   },
   {
    "duration": 37,
    "start_time": "2022-09-14T19:15:24.904Z"
   },
   {
    "duration": 46,
    "start_time": "2022-09-14T19:15:37.932Z"
   },
   {
    "duration": 16,
    "start_time": "2022-09-14T19:16:41.931Z"
   },
   {
    "duration": 18,
    "start_time": "2022-09-14T19:16:50.073Z"
   },
   {
    "duration": 16,
    "start_time": "2022-09-14T19:17:28.879Z"
   },
   {
    "duration": 16,
    "start_time": "2022-09-14T19:19:33.454Z"
   },
   {
    "duration": 15,
    "start_time": "2022-09-14T19:20:36.080Z"
   },
   {
    "duration": 42,
    "start_time": "2022-09-14T19:22:41.592Z"
   },
   {
    "duration": 12,
    "start_time": "2022-09-14T19:24:32.686Z"
   },
   {
    "duration": 37,
    "start_time": "2022-09-14T19:25:28.102Z"
   },
   {
    "duration": 41,
    "start_time": "2022-09-14T19:25:49.841Z"
   },
   {
    "duration": 15,
    "start_time": "2022-09-14T19:26:56.774Z"
   },
   {
    "duration": 37,
    "start_time": "2022-09-14T19:30:14.708Z"
   },
   {
    "duration": 15,
    "start_time": "2022-09-14T19:30:50.408Z"
   },
   {
    "duration": 36,
    "start_time": "2022-09-14T19:31:12.617Z"
   },
   {
    "duration": 22,
    "start_time": "2022-09-14T19:34:15.189Z"
   },
   {
    "duration": 16,
    "start_time": "2022-09-14T19:34:22.489Z"
   },
   {
    "duration": 46,
    "start_time": "2022-10-12T07:05:51.070Z"
   },
   {
    "duration": 1063,
    "start_time": "2022-10-12T07:06:37.206Z"
   },
   {
    "duration": 20,
    "start_time": "2022-10-12T07:06:38.271Z"
   },
   {
    "duration": 14,
    "start_time": "2022-10-12T07:06:38.292Z"
   },
   {
    "duration": 9,
    "start_time": "2022-10-12T07:06:38.307Z"
   },
   {
    "duration": 31,
    "start_time": "2022-10-12T07:06:38.318Z"
   },
   {
    "duration": 4,
    "start_time": "2022-10-12T07:06:38.351Z"
   },
   {
    "duration": 10,
    "start_time": "2022-10-12T07:06:38.356Z"
   },
   {
    "duration": 5,
    "start_time": "2022-10-12T07:06:38.368Z"
   },
   {
    "duration": 8,
    "start_time": "2022-10-12T07:06:38.374Z"
   },
   {
    "duration": 4,
    "start_time": "2022-10-12T07:06:38.383Z"
   },
   {
    "duration": 59,
    "start_time": "2022-10-12T07:06:38.388Z"
   },
   {
    "duration": 9,
    "start_time": "2022-10-12T07:06:38.449Z"
   },
   {
    "duration": 6,
    "start_time": "2022-10-12T07:06:38.459Z"
   },
   {
    "duration": 12,
    "start_time": "2022-10-12T07:06:38.468Z"
   },
   {
    "duration": 21,
    "start_time": "2022-10-12T07:06:38.481Z"
   },
   {
    "duration": 31,
    "start_time": "2022-10-12T07:06:38.503Z"
   },
   {
    "duration": 3,
    "start_time": "2022-10-12T07:06:38.536Z"
   },
   {
    "duration": 14,
    "start_time": "2022-10-12T07:06:38.540Z"
   },
   {
    "duration": 5,
    "start_time": "2022-10-12T07:06:38.556Z"
   },
   {
    "duration": 5,
    "start_time": "2022-10-12T07:06:38.562Z"
   },
   {
    "duration": 18,
    "start_time": "2022-10-12T07:06:38.568Z"
   },
   {
    "duration": 5,
    "start_time": "2022-10-12T07:06:38.588Z"
   },
   {
    "duration": 6,
    "start_time": "2022-10-12T07:06:45.319Z"
   },
   {
    "duration": 6,
    "start_time": "2022-10-12T07:07:05.001Z"
   },
   {
    "duration": 6,
    "start_time": "2022-10-12T07:11:25.723Z"
   },
   {
    "duration": 5,
    "start_time": "2022-10-12T07:11:34.050Z"
   },
   {
    "duration": 5,
    "start_time": "2022-10-12T07:11:40.183Z"
   },
   {
    "duration": 6,
    "start_time": "2022-10-12T07:12:41.284Z"
   },
   {
    "duration": 7,
    "start_time": "2022-10-12T07:16:57.695Z"
   },
   {
    "duration": 7,
    "start_time": "2022-10-12T07:17:03.247Z"
   },
   {
    "duration": 23,
    "start_time": "2022-10-12T07:25:50.985Z"
   },
   {
    "duration": 5,
    "start_time": "2022-10-12T07:49:06.204Z"
   },
   {
    "duration": 4,
    "start_time": "2022-10-12T07:49:42.455Z"
   },
   {
    "duration": 4,
    "start_time": "2022-10-12T07:49:47.998Z"
   },
   {
    "duration": 4,
    "start_time": "2022-10-12T07:49:57.017Z"
   },
   {
    "duration": 4,
    "start_time": "2022-10-12T07:50:03.183Z"
   },
   {
    "duration": 3,
    "start_time": "2022-10-12T07:52:23.948Z"
   },
   {
    "duration": 3,
    "start_time": "2022-10-12T07:52:33.873Z"
   },
   {
    "duration": 4,
    "start_time": "2022-10-12T07:52:41.432Z"
   },
   {
    "duration": 3,
    "start_time": "2022-10-12T07:52:48.797Z"
   },
   {
    "duration": 3,
    "start_time": "2022-10-12T07:52:51.654Z"
   },
   {
    "duration": 4,
    "start_time": "2022-10-12T07:52:56.160Z"
   },
   {
    "duration": 4,
    "start_time": "2022-10-12T07:53:00.181Z"
   },
   {
    "duration": 5,
    "start_time": "2022-10-12T07:53:05.805Z"
   },
   {
    "duration": 4,
    "start_time": "2022-10-12T07:53:15.760Z"
   },
   {
    "duration": 3,
    "start_time": "2022-10-12T07:53:24.877Z"
   },
   {
    "duration": 4,
    "start_time": "2022-10-12T07:53:39.711Z"
   },
   {
    "duration": 4,
    "start_time": "2022-10-12T07:53:45.399Z"
   },
   {
    "duration": 18,
    "start_time": "2022-10-12T07:55:53.925Z"
   },
   {
    "duration": 7,
    "start_time": "2022-10-12T07:56:08.276Z"
   },
   {
    "duration": 3,
    "start_time": "2022-10-12T07:57:38.031Z"
   },
   {
    "duration": 115,
    "start_time": "2022-10-14T07:34:30.348Z"
   },
   {
    "duration": 45,
    "start_time": "2022-10-14T07:37:16.145Z"
   },
   {
    "duration": 7,
    "start_time": "2022-10-14T07:37:29.727Z"
   },
   {
    "duration": 700,
    "start_time": "2022-10-14T07:37:44.930Z"
   },
   {
    "duration": 22,
    "start_time": "2022-10-14T07:37:45.632Z"
   },
   {
    "duration": 16,
    "start_time": "2022-10-14T07:37:45.655Z"
   },
   {
    "duration": 10,
    "start_time": "2022-10-14T07:37:45.672Z"
   },
   {
    "duration": 40,
    "start_time": "2022-10-14T07:37:45.684Z"
   },
   {
    "duration": 3,
    "start_time": "2022-10-14T07:37:45.725Z"
   },
   {
    "duration": 11,
    "start_time": "2022-10-14T07:37:45.730Z"
   },
   {
    "duration": 4,
    "start_time": "2022-10-14T07:37:45.743Z"
   },
   {
    "duration": 9,
    "start_time": "2022-10-14T07:37:45.749Z"
   },
   {
    "duration": 5,
    "start_time": "2022-10-14T07:37:45.759Z"
   },
   {
    "duration": 62,
    "start_time": "2022-10-14T07:37:45.765Z"
   },
   {
    "duration": 11,
    "start_time": "2022-10-14T07:37:45.828Z"
   },
   {
    "duration": 4,
    "start_time": "2022-10-14T07:37:45.840Z"
   },
   {
    "duration": 11,
    "start_time": "2022-10-14T07:37:45.847Z"
   },
   {
    "duration": 43,
    "start_time": "2022-10-14T07:37:45.860Z"
   },
   {
    "duration": 20,
    "start_time": "2022-10-14T07:37:45.904Z"
   },
   {
    "duration": 4,
    "start_time": "2022-10-14T07:37:45.925Z"
   },
   {
    "duration": 12,
    "start_time": "2022-10-14T07:37:45.930Z"
   },
   {
    "duration": 6,
    "start_time": "2022-10-14T07:37:45.943Z"
   },
   {
    "duration": 4,
    "start_time": "2022-10-14T07:37:45.950Z"
   },
   {
    "duration": 13,
    "start_time": "2022-10-14T07:37:45.955Z"
   },
   {
    "duration": 32,
    "start_time": "2022-10-14T07:37:45.969Z"
   },
   {
    "duration": 21,
    "start_time": "2022-10-14T07:37:46.003Z"
   },
   {
    "duration": 6,
    "start_time": "2022-10-14T07:37:46.026Z"
   },
   {
    "duration": 26,
    "start_time": "2022-10-14T07:37:46.033Z"
   },
   {
    "duration": 8,
    "start_time": "2022-10-14T07:37:46.060Z"
   },
   {
    "duration": 5,
    "start_time": "2022-10-14T07:37:46.097Z"
   },
   {
    "duration": 18,
    "start_time": "2022-10-14T07:37:46.103Z"
   },
   {
    "duration": 39,
    "start_time": "2022-10-14T07:37:46.123Z"
   },
   {
    "duration": 7,
    "start_time": "2022-10-14T07:37:46.164Z"
   },
   {
    "duration": 4,
    "start_time": "2022-10-14T07:37:46.197Z"
   },
   {
    "duration": 17,
    "start_time": "2022-10-14T07:37:46.203Z"
   },
   {
    "duration": 40,
    "start_time": "2022-10-14T07:37:46.222Z"
   },
   {
    "duration": 35,
    "start_time": "2022-10-14T07:37:46.263Z"
   },
   {
    "duration": 23,
    "start_time": "2022-10-14T07:37:46.300Z"
   },
   {
    "duration": 38,
    "start_time": "2022-10-14T07:37:46.324Z"
   },
   {
    "duration": 97,
    "start_time": "2022-10-14T07:56:48.109Z"
   },
   {
    "duration": 20,
    "start_time": "2022-10-14T07:56:48.208Z"
   },
   {
    "duration": 23,
    "start_time": "2022-10-14T07:56:48.230Z"
   },
   {
    "duration": 23,
    "start_time": "2022-10-14T07:56:48.256Z"
   },
   {
    "duration": 21,
    "start_time": "2022-10-14T07:56:52.931Z"
   },
   {
    "duration": 31,
    "start_time": "2022-10-14T07:57:48.747Z"
   },
   {
    "duration": 68,
    "start_time": "2022-10-14T07:58:17.249Z"
   },
   {
    "duration": 15,
    "start_time": "2022-10-14T07:58:17.319Z"
   },
   {
    "duration": 17,
    "start_time": "2022-10-14T07:58:17.336Z"
   },
   {
    "duration": 9,
    "start_time": "2022-10-14T07:58:17.355Z"
   },
   {
    "duration": 73,
    "start_time": "2022-10-14T07:58:43.584Z"
   },
   {
    "duration": 15,
    "start_time": "2022-10-14T07:58:43.659Z"
   },
   {
    "duration": 17,
    "start_time": "2022-10-14T07:58:43.675Z"
   },
   {
    "duration": 10,
    "start_time": "2022-10-14T07:58:43.697Z"
   },
   {
    "duration": 33,
    "start_time": "2022-10-14T07:58:43.708Z"
   },
   {
    "duration": 3,
    "start_time": "2022-10-14T07:58:43.743Z"
   },
   {
    "duration": 16,
    "start_time": "2022-10-14T07:58:43.748Z"
   },
   {
    "duration": 5,
    "start_time": "2022-10-14T07:58:43.765Z"
   },
   {
    "duration": 6,
    "start_time": "2022-10-14T07:58:43.797Z"
   },
   {
    "duration": 5,
    "start_time": "2022-10-14T07:58:43.805Z"
   },
   {
    "duration": 36,
    "start_time": "2022-10-14T07:58:43.812Z"
   },
   {
    "duration": 10,
    "start_time": "2022-10-14T07:58:43.850Z"
   },
   {
    "duration": 37,
    "start_time": "2022-10-14T07:58:43.861Z"
   },
   {
    "duration": 11,
    "start_time": "2022-10-14T07:58:43.899Z"
   },
   {
    "duration": 20,
    "start_time": "2022-10-14T07:58:43.912Z"
   },
   {
    "duration": 19,
    "start_time": "2022-10-14T07:58:43.934Z"
   },
   {
    "duration": 4,
    "start_time": "2022-10-14T07:58:43.957Z"
   },
   {
    "duration": 41,
    "start_time": "2022-10-14T07:58:43.963Z"
   },
   {
    "duration": 14,
    "start_time": "2022-10-14T07:58:44.006Z"
   },
   {
    "duration": 4,
    "start_time": "2022-10-14T07:58:44.021Z"
   },
   {
    "duration": 11,
    "start_time": "2022-10-14T07:58:44.027Z"
   },
   {
    "duration": 6,
    "start_time": "2022-10-14T07:58:44.039Z"
   },
   {
    "duration": 20,
    "start_time": "2022-10-14T07:58:44.046Z"
   },
   {
    "duration": 30,
    "start_time": "2022-10-14T07:58:44.068Z"
   },
   {
    "duration": 21,
    "start_time": "2022-10-14T07:58:44.100Z"
   },
   {
    "duration": 6,
    "start_time": "2022-10-14T07:58:44.123Z"
   },
   {
    "duration": 5,
    "start_time": "2022-10-14T07:58:44.131Z"
   },
   {
    "duration": 19,
    "start_time": "2022-10-14T07:58:44.138Z"
   },
   {
    "duration": 42,
    "start_time": "2022-10-14T07:58:44.197Z"
   },
   {
    "duration": 8,
    "start_time": "2022-10-14T07:58:44.241Z"
   },
   {
    "duration": 5,
    "start_time": "2022-10-14T07:58:44.251Z"
   },
   {
    "duration": 49,
    "start_time": "2022-10-14T07:58:44.257Z"
   },
   {
    "duration": 40,
    "start_time": "2022-10-14T07:58:44.308Z"
   },
   {
    "duration": 12,
    "start_time": "2022-10-14T07:58:44.350Z"
   },
   {
    "duration": 41,
    "start_time": "2022-10-14T07:58:44.363Z"
   },
   {
    "duration": 39,
    "start_time": "2022-10-14T07:58:44.406Z"
   },
   {
    "duration": 72,
    "start_time": "2022-10-14T08:02:49.171Z"
   },
   {
    "duration": 15,
    "start_time": "2022-10-14T08:02:49.245Z"
   },
   {
    "duration": 16,
    "start_time": "2022-10-14T08:02:49.262Z"
   },
   {
    "duration": 25,
    "start_time": "2022-10-14T08:02:49.279Z"
   },
   {
    "duration": 23,
    "start_time": "2022-10-14T08:02:52.875Z"
   },
   {
    "duration": 53,
    "start_time": "2022-10-14T08:03:13.295Z"
   },
   {
    "duration": 19,
    "start_time": "2022-10-14T08:03:38.905Z"
   },
   {
    "duration": 24,
    "start_time": "2022-10-14T08:03:46.805Z"
   },
   {
    "duration": 20,
    "start_time": "2022-10-14T08:04:30.898Z"
   },
   {
    "duration": 70,
    "start_time": "2022-10-14T08:12:00.751Z"
   },
   {
    "duration": 15,
    "start_time": "2022-10-14T08:12:00.823Z"
   },
   {
    "duration": 33,
    "start_time": "2022-10-14T08:12:00.840Z"
   },
   {
    "duration": 25,
    "start_time": "2022-10-14T08:12:00.875Z"
   },
   {
    "duration": 39,
    "start_time": "2022-10-14T08:12:00.902Z"
   },
   {
    "duration": 40,
    "start_time": "2022-10-14T08:12:00.943Z"
   },
   {
    "duration": 3,
    "start_time": "2022-10-14T08:12:00.985Z"
   },
   {
    "duration": 30,
    "start_time": "2022-10-14T08:12:00.990Z"
   },
   {
    "duration": 20,
    "start_time": "2022-10-14T08:12:01.021Z"
   },
   {
    "duration": 37,
    "start_time": "2022-10-14T08:12:01.043Z"
   },
   {
    "duration": 8,
    "start_time": "2022-10-14T08:12:01.082Z"
   },
   {
    "duration": 63,
    "start_time": "2022-10-14T08:12:01.091Z"
   },
   {
    "duration": 9,
    "start_time": "2022-10-14T08:12:01.156Z"
   },
   {
    "duration": 17,
    "start_time": "2022-10-14T08:12:01.167Z"
   },
   {
    "duration": 37,
    "start_time": "2022-10-14T08:12:01.186Z"
   },
   {
    "duration": 48,
    "start_time": "2022-10-14T08:12:01.225Z"
   },
   {
    "duration": 19,
    "start_time": "2022-10-14T08:12:01.274Z"
   },
   {
    "duration": 16,
    "start_time": "2022-10-14T08:12:01.295Z"
   },
   {
    "duration": 40,
    "start_time": "2022-10-14T08:12:01.312Z"
   },
   {
    "duration": 20,
    "start_time": "2022-10-14T08:12:01.354Z"
   },
   {
    "duration": 5,
    "start_time": "2022-10-14T08:12:01.375Z"
   },
   {
    "duration": 26,
    "start_time": "2022-10-14T08:12:01.381Z"
   },
   {
    "duration": 9,
    "start_time": "2022-10-14T08:12:01.408Z"
   },
   {
    "duration": 23,
    "start_time": "2022-10-14T08:12:01.418Z"
   },
   {
    "duration": 7,
    "start_time": "2022-10-14T08:12:01.442Z"
   },
   {
    "duration": 24,
    "start_time": "2022-10-14T08:12:01.450Z"
   },
   {
    "duration": 27,
    "start_time": "2022-10-14T08:12:01.475Z"
   },
   {
    "duration": 5,
    "start_time": "2022-10-14T08:12:01.505Z"
   },
   {
    "duration": 26,
    "start_time": "2022-10-14T08:12:01.511Z"
   },
   {
    "duration": 43,
    "start_time": "2022-10-14T08:12:01.538Z"
   },
   {
    "duration": 21,
    "start_time": "2022-10-14T08:12:01.582Z"
   },
   {
    "duration": 7,
    "start_time": "2022-10-14T08:12:01.605Z"
   },
   {
    "duration": 24,
    "start_time": "2022-10-14T08:12:01.613Z"
   },
   {
    "duration": 59,
    "start_time": "2022-10-14T08:12:01.638Z"
   },
   {
    "duration": 13,
    "start_time": "2022-10-14T08:12:01.699Z"
   },
   {
    "duration": 9,
    "start_time": "2022-10-14T08:12:36.833Z"
   },
   {
    "duration": 4,
    "start_time": "2022-10-14T08:14:27.445Z"
   },
   {
    "duration": 19,
    "start_time": "2022-10-14T08:14:57.575Z"
   },
   {
    "duration": 40,
    "start_time": "2022-10-14T08:15:20.934Z"
   },
   {
    "duration": 71,
    "start_time": "2022-10-14T08:25:44.190Z"
   },
   {
    "duration": 81,
    "start_time": "2022-10-14T08:25:46.952Z"
   },
   {
    "duration": 64,
    "start_time": "2022-10-14T16:02:47.906Z"
   },
   {
    "duration": 491,
    "start_time": "2022-10-14T16:02:55.620Z"
   },
   {
    "duration": 23,
    "start_time": "2022-10-14T16:02:56.112Z"
   },
   {
    "duration": 15,
    "start_time": "2022-10-14T16:02:56.137Z"
   },
   {
    "duration": 10,
    "start_time": "2022-10-14T16:02:56.154Z"
   },
   {
    "duration": 18,
    "start_time": "2022-10-14T16:02:56.165Z"
   },
   {
    "duration": 30,
    "start_time": "2022-10-14T16:02:56.209Z"
   },
   {
    "duration": 3,
    "start_time": "2022-10-14T16:02:56.241Z"
   },
   {
    "duration": 10,
    "start_time": "2022-10-14T16:02:56.245Z"
   },
   {
    "duration": 4,
    "start_time": "2022-10-14T16:02:56.256Z"
   },
   {
    "duration": 8,
    "start_time": "2022-10-14T16:02:56.263Z"
   },
   {
    "duration": 4,
    "start_time": "2022-10-14T16:02:56.272Z"
   },
   {
    "duration": 61,
    "start_time": "2022-10-14T16:02:56.277Z"
   },
   {
    "duration": 8,
    "start_time": "2022-10-14T16:02:56.340Z"
   },
   {
    "duration": 4,
    "start_time": "2022-10-14T16:02:56.350Z"
   },
   {
    "duration": 12,
    "start_time": "2022-10-14T16:02:56.355Z"
   },
   {
    "duration": 22,
    "start_time": "2022-10-14T16:02:56.368Z"
   },
   {
    "duration": 33,
    "start_time": "2022-10-14T16:02:56.391Z"
   },
   {
    "duration": 5,
    "start_time": "2022-10-14T16:02:56.426Z"
   },
   {
    "duration": 12,
    "start_time": "2022-10-14T16:02:56.432Z"
   },
   {
    "duration": 9,
    "start_time": "2022-10-14T16:02:56.445Z"
   },
   {
    "duration": 3,
    "start_time": "2022-10-14T16:02:56.455Z"
   },
   {
    "duration": 16,
    "start_time": "2022-10-14T16:02:56.459Z"
   },
   {
    "duration": 8,
    "start_time": "2022-10-14T16:02:56.476Z"
   },
   {
    "duration": 36,
    "start_time": "2022-10-14T16:02:56.486Z"
   },
   {
    "duration": 5,
    "start_time": "2022-10-14T16:02:56.523Z"
   },
   {
    "duration": 21,
    "start_time": "2022-10-14T16:02:56.530Z"
   },
   {
    "duration": 8,
    "start_time": "2022-10-14T16:02:59.541Z"
   },
   {
    "duration": 7,
    "start_time": "2022-10-14T16:03:02.472Z"
   },
   {
    "duration": 11,
    "start_time": "2022-10-14T16:03:13.609Z"
   },
   {
    "duration": 22,
    "start_time": "2022-10-14T16:04:50.991Z"
   },
   {
    "duration": 33,
    "start_time": "2022-10-14T16:12:39.517Z"
   },
   {
    "duration": 23,
    "start_time": "2022-10-14T16:13:13.455Z"
   },
   {
    "duration": 23,
    "start_time": "2022-10-14T17:01:01.945Z"
   },
   {
    "duration": 24,
    "start_time": "2022-10-14T17:06:27.193Z"
   },
   {
    "duration": 2,
    "start_time": "2022-10-14T17:07:08.493Z"
   },
   {
    "duration": 25,
    "start_time": "2022-10-14T17:07:11.634Z"
   },
   {
    "duration": 47,
    "start_time": "2022-10-14T17:12:01.111Z"
   },
   {
    "duration": 28,
    "start_time": "2022-10-14T17:12:52.360Z"
   },
   {
    "duration": 28,
    "start_time": "2022-10-14T17:14:17.331Z"
   },
   {
    "duration": 45,
    "start_time": "2022-10-14T17:14:43.953Z"
   },
   {
    "duration": 30,
    "start_time": "2022-10-14T17:18:42.920Z"
   }
  ],
  "colab": {
   "name": "dpp_template_part2.ipynb",
   "provenance": []
  },
  "kernelspec": {
   "display_name": "Python 3 (ipykernel)",
   "language": "python",
   "name": "python3"
  },
  "language_info": {
   "codemirror_mode": {
    "name": "ipython",
    "version": 3
   },
   "file_extension": ".py",
   "mimetype": "text/x-python",
   "name": "python",
   "nbconvert_exporter": "python",
   "pygments_lexer": "ipython3",
   "version": "3.9.12"
  },
  "toc": {
   "base_numbering": 1,
   "nav_menu": {},
   "number_sections": true,
   "sideBar": true,
   "skip_h1_title": true,
   "title_cell": "Table of Contents",
   "title_sidebar": "Contents",
   "toc_cell": false,
   "toc_position": {},
   "toc_section_display": true,
   "toc_window_display": false
  }
 },
 "nbformat": 4,
 "nbformat_minor": 5
}
